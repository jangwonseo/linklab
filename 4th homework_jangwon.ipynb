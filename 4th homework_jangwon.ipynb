{
 "metadata": {
  "name": "",
  "signature": "sha256:70521b6d4af5d732868a7b71f9b4263ca113a0f680adbb88ddfb26c683bcfdc8"
 },
 "nbformat": 3,
 "nbformat_minor": 0,
 "worksheets": [
  {
   "cells": [
    {
     "cell_type": "heading",
     "level": 3,
     "metadata": {},
     "source": [
      "Due Date : 2014\ub144 11\uc6d4 21\uc77c \uae08\uc694\uc77c"
     ]
    },
    {
     "cell_type": "markdown",
     "metadata": {},
     "source": [
      "                                                                                            Writer : \uc11c\uc7a5\uc6d0"
     ]
    },
    {
     "cell_type": "heading",
     "level": 4,
     "metadata": {},
     "source": [
      "[1\ubc88\ubb38\uc81c]\ud30c\uc77c s.txt \ub0b4\uc758 \ub2e4\uc74c \ub0b4\uc6a9\uacfc \ud568\uaed8 \uc544\ub798 \ubb38\uc81c\uc758 \ucf54\ub4dc\ub97c \uc81c\uc2dc\ud558\uc2dc\uc624."
     ]
    },
    {
     "cell_type": "markdown",
     "metadata": {},
     "source": [
      "    1)\ud30c\uc77c s.txt\uc744 \uc77d\uc5b4\uc11c \uac01 \ub77c\uc778\ub4e4\uc5d0 \uc788\ub294 \uccab \ubc88\uc9f8 \ub2e8\uc5b4(\ubb38\uc790\uc5f4)\ub4e4\uc744 \uae30\uc900\uc73c\ub85c \ub77c\uc778\ubcc4 \uc815\ub82c\ud6c4 \ud30c\uc77c s1.txt\uc5d0 \uadf8 \uacb0\uacfc\ub97c \uae30\ub85d\ud558\ub294 \ucf54\ub4dc\ub97c \uc791\uc131\ud558\uc2dc\uc624. \n",
      "    \uc989, \ud504\ub85c\uadf8\ub7a8 \uc218\ud589 \ud6c4 s1.txt\uc5d0 \uc788\ub294 \ud30c\uc77c \ub0b4\uc6a9\uc740 \ub2e4\uc74c\uacfc \uac19\ub2e4.\n",
      "    cat dog\n",
      "    dog pig\n",
      "    ham bird\n",
      "    pig ham"
     ]
    },
    {
     "cell_type": "markdown",
     "metadata": {},
     "source": [
      "    1_\ub2f5)"
     ]
    },
    {
     "cell_type": "code",
     "collapsed": false,
     "input": [
      "# -*- coding: utf-8 -*-\n",
      "import os\n",
      "\n",
      "text = 'pig ham\\ncat dog\\nham bird\\ndog pig\\n'\n",
      "f = open('s.txt','w')\n",
      "f.write(text)\n",
      "f.close()\n",
      "\n",
      "linelist=[]\n",
      "f = open('s.txt','r')\n",
      "\n",
      "for strr in f.xreadlines(): \n",
      "    linelist.append(strr)             \n",
      "f.close()\n",
      "\n",
      "linelist.sort()\n",
      "\n",
      "f = open('s1.txt','w')\n",
      "f.writelines(linelist)\n",
      "f.close()"
     ],
     "language": "python",
     "metadata": {},
     "outputs": [],
     "prompt_number": 9
    },
    {
     "cell_type": "markdown",
     "metadata": {},
     "source": [
      "    2)\ud30c\uc77c s.txt\uc744 \uc77d\uc5b4\uc11c \uac01 \ub77c\uc778\ub4e4\uc5d0 \uc788\ub294 \ub450 \ubc88\uc9f8 \ub2e8\uc5b4(\ubb38\uc790\uc5f4)\ub4e4\uc744 \uae30\uc900\uc73c\ub85c \ub77c\uc778\ubcc4 \uc815\ub82c\ud6c4 \ud30c\uc77c s2.txt\uc5d0 \uadf8 \uacb0\uacfc\ub97c \uae30\ub85d\ud558\ub294 \ucf54\ub4dc\ub97c \uc791\uc131\ud558\uc2dc\uc624. \n",
      "    \uc989, \ud504\ub85c\uadf8\ub7a8 \uc218\ud589 \ud6c4 s2.txt\uc5d0 \uc788\ub294 \ud30c\uc77c \ub0b4\uc6a9\uc740 \ub2e4\uc74c\uacfc \uac19\ub2e4.\n",
      "    ham bird\n",
      "    cat dog\n",
      "    pig ham\n",
      "    dog pig"
     ]
    },
    {
     "cell_type": "markdown",
     "metadata": {},
     "source": [
      "    2_\ub2f5)"
     ]
    },
    {
     "cell_type": "code",
     "collapsed": false,
     "input": [
      "import os\n",
      "\n",
      "def cmp_sample(linelist1, linelist2):\n",
      "    return cmp(linelist1[1],linelist2[1])\n",
      "\n",
      "text = 'pig ham\\ncat dog\\nham bird\\ndog pig\\n'\n",
      "f = open('s.txt','w')\n",
      "f.write(text)\n",
      "f.close()\n",
      "\n",
      "linelist=[]\n",
      "f = open('s.txt','r')\n",
      "\n",
      "for strr in f.xreadlines():\n",
      "    linelist.append(tuple(strr.split()))\n",
      "f.close()\n",
      "\n",
      "linelist.sort(cmp_sample)\n",
      "\n",
      "f = open('s1.txt','w')\n",
      "for per_linelist in linelist:\n",
      "    f.write((str(per_linelist).strip('()'))+'\\n')\n",
      "f.close()"
     ],
     "language": "python",
     "metadata": {},
     "outputs": [],
     "prompt_number": 8
    },
    {
     "cell_type": "markdown",
     "metadata": {},
     "source": [
      "3_\ub2f5)"
     ]
    },
    {
     "cell_type": "code",
     "collapsed": false,
     "input": [
      "# -*- coding: utf-8 -*-\n",
      "import os\n",
      "\n",
      "text = 'pig ham\\ncat dog\\nham bird\\ndog pig\\n'\n",
      "f = open('s.txt','w')\n",
      "f.write(text)\n",
      "f.close()\n",
      "\n",
      "wordlist = []\n",
      "f = open('s.txt','r')\n",
      "wordlist = str(f.read()).split()\n",
      "f.close()\n",
      "\n",
      "i=1\n",
      "while(i<len(wordlist)+1):\n",
      "    wordlist[i-1] = wordlist[i-1]+' '\n",
      "    if((i%3)==0):\n",
      "        wordlist[i-1] = wordlist[i-1]+'\\n'    \n",
      "    i=i+1\n",
      "\n",
      "f = open('s1.txt','w')\n",
      "f.writelines(wordlist)\n",
      "f.close()\n"
     ],
     "language": "python",
     "metadata": {},
     "outputs": [],
     "prompt_number": 1
    },
    {
     "cell_type": "heading",
     "level": 4,
     "metadata": {},
     "source": [
      "[2\ubc88\ubb38\uc81c]\ud30c\uc77c s.txt \ub0b4\uc758 \ub2e4\uc74c \ub0b4\uc6a9\uacfc \ud568\uaed8 \uc544\ub798 \ubb38\uc81c\uc758 \ucf54\ub4dc\ub97c \uc81c\uc2dc\ud558\uc2dc\uc624."
     ]
    },
    {
     "cell_type": "markdown",
     "metadata": {},
     "source": [
      "    \ub2e4\uc74c\uacfc \uac19\uc740 \uc870\uac74\ub4e4\uc744 \ucc38\uace0\ud558\uc5ec \ud68c\uc6d0 \uac00\uc785 \ubc0f \ub85c\uadf8\uc778 \ud504\ub85c\uadf8\ub7a8\uc744 \uc791\uc131\ud558\uc2dc\uc624.\n",
      "    1) \ud504\ub85c\uadf8\ub7a8 \uc2dc\uc791 \ud6c4 \ub2e4\uc74c\uacfc \uac19\uc740 \uba54\uc2dc\uc9c0\uac00 \ucd9c\ub825\ub418\uc5b4 1, 2, 3 \uc911 \ud558\ub098\uc758 \uac12\uc744 \uc785\ub825 \ubc1b\ub3c4\ub85d \ud55c\ub2e4.\n",
      "        Welcome to Our Service\n",
      "            1. Sign Up\n",
      "            2. Sign In\n",
      "            3. Quit\n",
      "            \n",
      "    2)1\uc744 \uc120\ud0dd\ud558\uba74 ID, Password, Name, School\uc758 4\uac00\uc9c0 \uc815\ubcf4\ub97c \uc785\ub825\ubc1b\uc544 \ud30c\uc77c\uc5d0 \uc800\uc7a5\ud558\ub294 \ud504\ub85c\uadf8\ub7a8\uc744 \uc791\uc131\ud55c\ub2e4.\n",
      "        2-1) \uc785\ub825\ub41c \ub0b4\uc6a9\uc740 access \ub77c\ub294 \uc774\ub984\uc758 \ud30c\uc77c \ub0b4\uc5d0 \uc800\uc7a5\ub41c\ub2e4.\n",
      "        2-2) access \ud30c\uc77c\uc758 \uac01 \ub77c\uc778\uc5d0\ub294 \uac00\uc785\ub41c \ud68c\uc6d0 \uac01\uac01\uc758 \uc815\ubcf4\uac00 \"id: password, name, school\" \ud615\ud0dc\ub85c \uc800\uc7a5\ub41c\ub2e4.\n",
      "        2-3) \uc989, \uac00\uc785 \ud68c\uc6d0\uc774 10\uba85\uc774\uba74 access \ud30c\uc77c \ub0b4\uc5d0 \ub77c\uc778 \uc218\ub3c4 \uc815\ud655\ud788 10\uc774\ub2e4.\n",
      "        2-4) \uc554\ud638\ud654 \ubc29\uc2dd\uc740 sha \ubaa8\ub4c8\uc744 \ud65c\uc6a9\ud55c\ub2e4. sha \ubaa8\ub4c8 \ud65c\uc6a9 \ubc29\ubc95\uc740 \ubcf8 \ubb38\uc81c\uc758 \ub9c8\uc9c0\ub9c9\uc5d0 \uc81c\uc2dc\ub41c sha \ud65c\uc6a9 \uc608\ub97c \ucc38\uace0\ud55c\ub2e4.\n",
      "             \uc989, access \ud30c\uc77c \ub0b4\uc5d0 password \uc815\ubcf4\ub294 \uc554\ud638\ud654 \ub418\uc5b4 \uc800\uc7a5\ub418\uc5b4\uc57c \ud55c\ub2e4.\n",
      "        2-5) \ud68c\uc6d0 \uc815\ubcf4\ub97c \uc785\ub825 \ubc1b\uc744 \ub54c id\ub97c \uc785\ub825 \ubc1b\uc740 \uc9c1\ud6c4 access\ub97c \ud655\uc778\ud558\uc5ec \uc774\ubbf8 \uc874\uc7ac\ud558\ub294 id\uac00 \uc785\ub825\ub418\uc5c8\ub2e4\uba74 \ub2e4\uc74c \uba54\uc2dc\uc9c0\ub97c \ucd9c\ub825\ud558\uace0 \n",
      "             id \uc815\ubcf4\ub97c \ub2e4\uc2dc \uc785\ub825\ubc1b\ub294\ub2e4.\n",
      "             Sorry, the entered ID is already used.\n",
      "             \n",
      "    3)2\ub97c \uc120\ud0dd\ud558\uba74 ID, Password\uc758 2\uac00\uc9c0 \uc815\ubcf4\ub97c \uc785\ub825\ubc1b\ub294 \ud504\ub85c\uadf8\ub7a8\uc744 \uc791\uc131\ud55c\ub2e4.\n",
      "        3-1) \uc785\ub825\ub41c ID \uc815\ubcf4\uac00 access\uc5d0 \uc874\uc7ac\ud558\uc9c0 \uc54a\uc73c\uba74 \ub2e4\uc74c\uacfc \uac19\uc740 \uba54\uc2dc\uc9c0\ub97c \ucd9c\ub825\ud558\uace0 \ub2e4\uc2dc \uc785\ub825\ubc1b\ub294\ub2e4.\n",
      "             Sorry, you are not a registered member.\n",
      "        3-2) \uc785\ub825\ub41c ID\uac00 \uc62c\ubc14\ub974\uac8c \uc874\uc7ac\ud558\uc9c0\ub9cc Password \uc815\ubcf4\uac00 access \ud30c\uc77c\uc5d0 \uc788\ub294 \uc815\ubcf4\uc640 \ubd88\uc77c\uce58 \ud558\uba74 \ub2e4\uc74c\uacfc \uac19\uc740 \uba54\uc2dc\uc9c0\ub97c \ucd9c\ub825\ud558\uace0 \ub2e4\uc2dc \uc785\ub825\ubc1b\ub294\ub2e4.\n",
      "             Sorry, the entered password is not correct.\n",
      "             \uc774 \ub54c\uc5d0\ub3c4 \uc0ac\uc6a9\uc790\uac00 \uc785\ub825\ud55c \ud328\uc2a4\uc6cc\ub4dc \uc815\ubcf4\uc640 \ud568\uaed8 sha \ubaa8\ub4c8\uc774 \ud65c\uc6a9\ub418\uc5b4\uc57c \ud55c\ub2e4.\n",
      "        3-3) \uc785\ub825\ub41c ID\uc640 Password\uac00 \ubaa8\ub450 \uc62c\ubc14\ub974\uba74 \ub2e4\uc74c\uacfc \uac19\uc740 \uba54\uc2dc\uc9c0\ub97c \ucd9c\ub825\ud55c\ub2e4.\n",
      "              Hello [name]!\n",
      "              \uc704 [name]\uc5d0\ub294 access\uc5d0 \uae30\ub85d\ub418\uc5b4 \uc788\ub294 name \uc815\ubcf4\ub97c \ucd9c\ub825\ud55c\ub2e4.\n",
      "              \n",
      "    4)3\uc744 \uc120\ud0dd\ud558\uba74 \ud504\ub85c\uadf8\ub7a8\uc774 \ub05d\ub09c\ub2e4."
     ]
    },
    {
     "cell_type": "markdown",
     "metadata": {},
     "source": [
      "2_\ub2f5)"
     ]
    },
    {
     "cell_type": "code",
     "collapsed": false,
     "input": [
      "# -*- coding: utf-8 -*-\n",
      "import os\n",
      "import sha\n",
      "\n",
      "member_info = ''  #ID information \n",
      "menu_Select = ''  #initial menuSelect number\n",
      "flag = True\n",
      "\n",
      "def menu_Show():\n",
      "    print \"Welcome to out Service\"\n",
      "    print \"1. Sign Up\"\n",
      "    print \"2. Sign In\"\n",
      "    print \"3. Quit\"\n",
      "    global menu_Select\n",
      "    menu_Select = input('please select anynumber..')\n",
      "    \n",
      "def sign_Up():\n",
      "    info_Id = raw_input(\"id : \")\n",
      "    \n",
      "    #confirm the id...\n",
      "    f = open('access.txt','r')\n",
      "    for temp_line in f.readlines():\n",
      "        t1 = temp_line.split(':')\n",
      "        if(t1[0] != info_Id): #if not correct, searching next line\n",
      "            continue\n",
      "        else:  #if correct, exit\n",
      "            print 'Sorry, the entered ID is already used.'\n",
      "            print 'return initial_Menu......\\n\\n'\n",
      "            return 0\n",
      "            \n",
      "    f.close()    \n",
      "    \n",
      "    #encryped the password ...                       \n",
      "    info_Pw = raw_input(\"pw : \")\n",
      "    info_Pw = sha.new(info_Pw).hexdigest()\n",
      "    info_Name = raw_input(\"name : \")\n",
      "    info_School = raw_input(\"school : \")\n",
      "    \n",
      "    member_info = info_Id+':'+info_Pw+','+info_Name+','+info_School+'\\n'\n",
      "    \n",
      "    #print member_info\n",
      "    f = open('access.txt','a')\n",
      "    f.writelines(member_info) \n",
      "    f.close()\n",
      "    \n",
      "    print 'compete signup!!\\n\\n'\n",
      "    \n",
      "    \n",
      "def sign_In():\n",
      "    signin_Id = raw_input('id : ')\n",
      "    \n",
      "    #cofirm the id\n",
      "    f = open('access.txt','r')\n",
      "    for temp_line in f.readlines():\n",
      "        t1 = temp_line.split(':')\n",
      "        if(t1[0] == signin_Id):\n",
      "            break\n",
      "        else:\n",
      "            print 'Sorry. you are not a registered member.'\n",
      "            print 'return initial_Menu......\\n\\n'\n",
      "            return 0\n",
      "                \n",
      "    f.close()\n",
      "    \n",
      "    #confirm the password\n",
      "    signin_Pw = raw_input('pw : ')\n",
      "    signin_Pw = sha.new(signin_Pw).hexdigest()\n",
      "    f = open('access.txt','r')\n",
      "    for temp_line in f.readlines():\n",
      "        t1 = temp_line.split(':')\n",
      "        t2 = t1[1].split(',')\n",
      "        \n",
      "        if(t2[0] != signin_Pw):\n",
      "            print 'Sorry, the entered password is not correct.\\n\\n'\n",
      "            break\n",
      "        else:\n",
      "            print '################ Hello!'+t2[1]+'############\\n\\n'\n",
      "            break\n",
      "        \n",
      "    f.close()\n",
      "    \n",
      "## main\n",
      "while(flag):\n",
      "    menu_Show()\n",
      "\n",
      "    #Sign up\n",
      "    if(menu_Select == 1):\n",
      "        sign_Up()\n",
      "        continue\n",
      "           \n",
      "    #Sign in(login)\n",
      "    elif(menu_Select == 2):\n",
      "        sign_In()\n",
      "        continue\n",
      "\n",
      "    #quit    \n",
      "    else:\n",
      "        print \"good bye~~~\"\n",
      "        break\n",
      "    "
     ],
     "language": "python",
     "metadata": {},
     "outputs": [
      {
       "output_type": "stream",
       "stream": "stdout",
       "text": [
        "Welcome to out Service\n",
        "1. Sign Up\n",
        "2. Sign In\n",
        "3. Quit\n"
       ]
      }
     ]
    },
    {
     "cell_type": "heading",
     "level": 4,
     "metadata": {},
     "source": [
      "[3\ubc88 \ubb38\uc81c] range() \ud568\uc218\uc640 \uc720\uc0ac\ud55c frange() \ud568\uc218\ub97c \ub2e4\uc74c \uc870\uac74\uc744 \ucc38\uace0\ud558\uc5ec \ub9cc\ub4dc\uc2dc\uc624."
     ]
    },
    {
     "cell_type": "markdown",
     "metadata": {},
     "source": [
      "1) frange()\uc758 \uc778\uc790 \uad6c\uc131\uc740 \ub2e4\uc74c\uacfc \uac19\uc774 range\uc640 \ub3d9\uc77c\ud558\uc9c0\ub9cc \uac01 \uc778\uc218\ub4e4\uc740 \uc74c\uc218\ub97c \ubc1b\uc9c0 \uc54a\ub294\ub2e4\uace0 \uac00\uc815\ud55c\ub2e4.\n",
      "\n",
      "    range(stop)\n",
      "    range(start,stop,step)"
     ]
    },
    {
     "cell_type": "markdown",
     "metadata": {},
     "source": [
      "2) frange() \ud568\uc218\uc758 \uc778\uc790\uc5d0 \ub300\ud55c \uae30\ubcf8 \uc2dc\uc791(start) \uac12\uc740 0.0\uc774\uace0, \uae30\ubcf8 \ub2e8\uacc4(step) \uac12\uc740 0.1\uc774\ub2e4."
     ]
    },
    {
     "cell_type": "markdown",
     "metadata": {},
     "source": [
      "3) frange \uc0ac\uc6a9 \uc608\n",
      "\n",
      "    3-1) frange(0.5)\n",
      "        [0.0, 0.1, 0.2, 0.3, 0.4]\n",
      "    3-2) frange(1.0, 2.0)\n",
      "        [1.0, 1.1, 1.2, 1.3, 1.4, 1.5, 1.6, 1.7, 1.8, 1.9]\n",
      "    3-3) frange(2.2, 4.0, 0.5)\n",
      "        [2.2, 2.7, 3.2, 3.7]"
     ]
    },
    {
     "cell_type": "markdown",
     "metadata": {},
     "source": [
      "3_\ub2f5)"
     ]
    },
    {
     "cell_type": "code",
     "collapsed": false,
     "input": [
      "def frange(start, stop, step=0.1):\n",
      "    values = int((stop - start)/step)\n",
      "    if values > 1.0 :\n",
      "        return ([round(start + step*i,2) for i in range(values+1)])\n",
      "        \n",
      "    else:\n",
      "        return([])\n",
      "        \n",
      "print frange(1.0,2.0)\n",
      "print\n",
      "print frange(1.8,6.6,0.4)"
     ],
     "language": "python",
     "metadata": {},
     "outputs": [
      {
       "output_type": "stream",
       "stream": "stdout",
       "text": [
        "[1.0, 1.1, 1.2, 1.3, 1.4, 1.5, 1.6, 1.7, 1.8, 1.9, 2.0]\n",
        "\n",
        "[1.8, 2.2, 2.6, 3.0, 3.4, 3.8, 4.2, 4.6, 5.0, 5.4, 5.8, 6.2]\n"
       ]
      }
     ],
     "prompt_number": 3
    },
    {
     "cell_type": "heading",
     "level": 4,
     "metadata": {},
     "source": [
      "[4\ubc88 \ubb38\uc81c] \uac00\ubcc0\uc778\uc218\ub97c \ubc1b\ub294 \ud568\uc218 sum()\uc744 \ub2e4\uc74c\uacfc \uac19\uc740 \uc870\uac74\uc744 \ucc38\uace0\ud558\uc5ec \uad6c\ud604\ud558\uc2dc\uc624"
     ]
    },
    {
     "cell_type": "markdown",
     "metadata": {},
     "source": [
      "    1) sum() \uc0ac\uc6a9 \uc608\n",
      "        sum()\n",
      "            0\n",
      "        sum(1, 2)\n",
      "            3\n",
      "        sum(1, 2, 3, 4, 5)\n",
      "            15\n",
      "        sum(1, 5, 7, 2, -10)\n",
      "            5"
     ]
    },
    {
     "cell_type": "markdown",
     "metadata": {},
     "source": [
      "4_\ub2f5)"
     ]
    },
    {
     "cell_type": "code",
     "collapsed": false,
     "input": [
      "def fsum(*args):\n",
      "    i=0\n",
      "    sum=0\n",
      "    while(i<len(args)):\n",
      "        sum += args[i]\n",
      "        i=i+1\n",
      "    return sum\n",
      "\n",
      "\n",
      "\n",
      "print fsum(1,5,7,2,-10)        "
     ],
     "language": "python",
     "metadata": {},
     "outputs": [
      {
       "output_type": "stream",
       "stream": "stdout",
       "text": [
        "5\n"
       ]
      }
     ],
     "prompt_number": 4
    },
    {
     "cell_type": "heading",
     "level": 4,
     "metadata": {},
     "source": [
      "[5\ubc88 \ubb38\uc81c] \uc5ec\ub7ec \ub2e8\uc5b4\ub85c \uc774\ub8e8\uc5b4\uc9c4 \ubb38\uc790\uc5f4\uc744 \uc785\ub825\ubc1b\uc544 \uac01 \ub2e8\uc5b4\uc758 \uccab\uae00\uc790\ub85c \uc774\ub8e8\uc5b4\uc9c4 \ub2e8\uc5b4\ub97c \ub300\ubb38\uc790\ub85c \ucd9c\ub825\ud558\ub294 myinitial() \ud568\uc218\ub97c \ub2e4\uc74c \uc870\uac74\uc744 \ucc38\uace0\ud558\uc5ec \uc791\uc131\ud558\uc2dc\uc624."
     ]
    },
    {
     "cell_type": "markdown",
     "metadata": {},
     "source": [
      "    1) split, map, join \ud568\uc218\ub97c \ubaa8\ub450 \uc774\uc6a9\ud574\uc57c \ud55c\ub2e4.\n",
      "    2) myinitial() \ud568\uc218 \uc0ac\uc6a9 \uc608\n",
      "        myinitial(\"as soon as possible\")\n",
      "        ASAP"
     ]
    },
    {
     "cell_type": "markdown",
     "metadata": {},
     "source": [
      "5_\ub2f5)"
     ]
    },
    {
     "cell_type": "code",
     "collapsed": false,
     "input": [
      "def myInitial(string):\n",
      "    l = string.split()\n",
      "    l = map(lambda x : x[0].upper(), l)\n",
      "    l2 = ''.join(l)\n",
      "    print l2\n",
      "myInitial(\"as soon as possible\")"
     ],
     "language": "python",
     "metadata": {},
     "outputs": [
      {
       "output_type": "stream",
       "stream": "stdout",
       "text": [
        "ASAP\n"
       ]
      }
     ],
     "prompt_number": 1
    },
    {
     "cell_type": "heading",
     "level": 4,
     "metadata": {},
     "source": [
      "[6\ubc88 \ubb38\uc81c] \uc74c\uc774 \uc544\ub2cc \uc815\uc218 n\ub97c \uc785\ub825\ubc1b\uc73c\uba74 n! (factorial)\uc744 \uacc4\uc0b0\ud558\ub294 myfact() \ud568\uc218\ub97c \uc7ac\uadc0\uc801 \ud568\uc218\ub85c \uad6c\ud604\ud558\uc2dc\uc624."
     ]
    },
    {
     "cell_type": "markdown",
     "metadata": {},
     "source": [
      "6_\ub2f5)"
     ]
    },
    {
     "cell_type": "code",
     "collapsed": false,
     "input": [
      "def myfact(n):\n",
      "    if n > 1:\n",
      "        return n*myfact(n-1)\n",
      "    elif n < 0:\n",
      "        return 'number is negative'\n",
      "    else:\n",
      "        return n\n",
      "\n",
      "print myfact(5)\n",
      "print myfact(3)\n",
      "print myfact(-4)\n",
      "print myfact(0)"
     ],
     "language": "python",
     "metadata": {},
     "outputs": [
      {
       "output_type": "stream",
       "stream": "stdout",
       "text": [
        "120\n",
        "6\n",
        "number is negative\n",
        "0\n"
       ]
      }
     ],
     "prompt_number": 1
    },
    {
     "cell_type": "heading",
     "level": 4,
     "metadata": {},
     "source": [
      "[7\ubc88 \ubb38\uc81c] (\uc11c\uc220\ud615) import string \uacfc from string import * \uc758 \ucc28\uc774\uc810\uc744 \uc124\uba85\ud558\uc2dc\uc624."
     ]
    },
    {
     "cell_type": "markdown",
     "metadata": {},
     "source": [
      "7_\ub2f5)"
     ]
    },
    {
     "cell_type": "markdown",
     "metadata": {},
     "source": [
      "import string \uc740 string \ubaa8\ub4c8\uc744 \ubd88\ub7ec\uc624\ub294 \uac83\uc774\uace0 from string import * \ub294 string \ubaa8\ub4c8\uc5d0 \uc874\uc7ac\ud558\ub294 '__'\ub85c \uc2dc\uc791\ub418\ub294 \uc774\ub984\ub4e4\uc744 \uc81c\uc678\ud55c \ubaa8\ub4e0 \uc774\ub984\ub4e4\uc744 \ud604\uc7ac \uc774\ub984 \uacf5\uac04\uc73c\ub85c \ubd88\ub7ec\ub4e4\uc774\ub294 \uac83\uc744 \uc758\ubbf8\ud55c\ub2e4."
     ]
    },
    {
     "cell_type": "heading",
     "level": 4,
     "metadata": {},
     "source": [
      "[8\ubc88 \ubb38\uc81c] \uc774\uc804 Assignment 3\uc758 \ub9c8\uc9c0\ub9c9 \ubb38\uc81c\ub294 \uc6f9 URL\ub85c \uc9c0\uc815\ub41c \uc6f9\ud398\uc774\uc9c0\ub97c \ubb38\uc790\uc5f4\ub85c \uac00\uc838\uc640 \ubaa8\ub4e0 HTML \ud0dc\uadf8 \ubc0f CSS\uc640 Javascript\ub97c \uc81c\uc678\ud55c \uc21c\uc218 \ud14d\uc2a4\ud2b8\ub97c \uc5bb\uc5b4\ub0b4\uace0 \uadf8 \uc548\uc5d0 \uc874\uc7ac\ud558\ub294 \ub2e8\uc5b4\ub97c \ucd94\ucd9c\ud558\uc5ec \uac01 \ub2e8\uc5b4\ub4e4\uc5d0 \ub300\ud574 \ucd9c\ud604\ube48\ub3c4\ub97c \uc0ac\uc804\ud615\ud0dc({'world': 2, 'hello': 1, 'python': 1})\ub85c \uc800\uc7a5\ud558\uc5ec \ucd9c\ub825\ud558\ub294 \uac83\uc774\uc5c8\ub2e4. \uc774\ubc88\uc5d0\ub294 Assignment 3\ub97c \ud655\uc7a5\ud558\uc5ec \ub2e4\uc74c\uacfc \uac19\uc740 \uc870\uac74\uc744 \ub9cc\uc871\ud558\ub3c4\ub85d \uad6c\ud604\ud558\uc2dc\uc624."
     ]
    },
    {
     "cell_type": "markdown",
     "metadata": {},
     "source": [
      "    1) \uac01 URL\ub85c \uc9c0\uc815\ub41c \uc6f9\ud398\uc774\uc9c0\uc758 HTML \uc18c\uc2a4\ub97c \ud30c\uc77c\ub85c \uc800\uc7a5\ud558\uc2dc\uc624.\n",
      "        URL\uc774 http://URL \uc774\ub77c\uba74 \ud30c\uc77c\uba85\uc740 URL.html \uc774\ub2e4.\n",
      "        \uc608: URL\uc774 http://www.koreatech.ac.kr \uc774\ub77c\uba74 \ud30c\uc77c\uba85\uc740 www.koreatech.ac.kr.html \uc774\ub2e4.\n",
      "    2) \ub2e8\uc5b4\uc758 \ucd9c\ud604\ube48\ub3c4\uac00 \ub2f4\uae34 \uc0ac\uc804 \uac1d\uccb4\ub97c \uc704 HTML \uc18c\uc2a4 \ud30c\uc77c\uacfc \ub3d9\uc77c\ud55c \ud3f4\ub354\uc5d0 \ud30c\uc77c\ub85c \uc800\uc7a5\ud558\uc2dc\uc624.\n",
      "        \uad50\uc7ac 11-2 \ud53c\ud074\ub9c1 \ubc29\ubc95\uc744 \ud65c\uc6a9\ud558\uc2dc\uc624.\n",
      "        URL\uc774 http://URL \uc774\ub77c\uba74 \ud30c\uc77c\uba85\uc740 URL.words.frequency \uc774\ub2e4.\n",
      "        \uc608: URL\uc774 http://www.koreatech.ac.kr \uc774\ub77c\uba74 \ud30c\uc77c\uba85\uc740 www.koreatech.ac.kr.words.frequency \uc774\ub2e4.\n",
      "    3) \ucd5c\uc18c 5\uac1c \uc774\uc0c1\uc758 \uc6f9 \uc0ac\uc774\ud2b8\uc5d0 \ub300\ud55c HTML \uc18c\uc2a4 \ud30c\uc77c\uacfc \ub2e8\uc5b4 \ucd9c\ud604\ube48\ub3c4 \ud30c\uc77c\uc744 \uc800\uc7a5\ud558\uc2dc\uc624.\n",
      "        \uc989, \ucd1d 10\uac1c\uc758 \ud30c\uc77c\uc744 \ub3d9\uc77c\ud55c \ud3f4\ub354\uc5d0 \uc0dd\uc131\ud558\uc2dc\uc624."
     ]
    },
    {
     "cell_type": "markdown",
     "metadata": {},
     "source": [
      "8_1\ub2f5)\uac01 url\ub85c \uc9c0\uc815\ub41c \uc6f9\ud398\uc774\uc9c0\uc758 html \uc18c\uc2a4\ub97c \ud30c\uc77c\ub85c \uc800\uc7a5\ud558\uc2dc\uc624."
     ]
    },
    {
     "cell_type": "code",
     "collapsed": false,
     "input": [
      "source = urllib.urlopen(\"http://cse.kut.ac.kr/\").read()\n",
      "f=open('cse.kut.ac.kr.html','w+')\n",
      "f.writelines(source)\n",
      "f.close()"
     ],
     "language": "python",
     "metadata": {},
     "outputs": [],
     "prompt_number": 5
    },
    {
     "cell_type": "markdown",
     "metadata": {},
     "source": [
      "8_2\ub2f5)\ub2e8\uc5b4\uc758 \ucd9c\ud604\ube48\ub3c4\uac00 \ub2f4\uae34 \uc0ac\uc804 \uac1d\uccb4\ub97c \uc704 HTML \uc18c\uc2a4 \ud30c\uc77c\uacfc \ub3d9\uc77c\ud55c \ud3f4\ub354\uc5d0 \ud30c\uc77c\ub85c \uc800\uc7a5\ud558\uc2dc\uc624. \uad50\uc7ac 11-2 \ud53c\ud074\ub9c1 \ubc29\ubc95\uc744 \ud65c\uc6a9\ud558\uc2dc\uc624. URL\uc774 http://URL \uc774\ub77c\uba74 \ud30c\uc77c\uba85\uc740 URL.words.frequency \uc774\ub2e4."
     ]
    },
    {
     "cell_type": "code",
     "collapsed": false,
     "input": [
      "# -*- coding: utf-8 -*-\n",
      "import urllib\n",
      "import string\n",
      "\n",
      "source = urllib.urlopen(\"http://cse.kut.ac.kr/\").read()\n",
      "\n",
      "len_source = len(source)\n",
      "\n",
      "f=open('cse.kut.ac.kr.html','w+')\n",
      "f.writelines(source)\n",
      "f.close()\n",
      "\n",
      "source_new = None\n",
      "i = 0\n",
      "while (i < len_source):\n",
      "    found = False\n",
      "    if (found != True and source[i] == \"<\" and source[i+1 : i+7].lower() == \"script\"):\n",
      "        found = True;\n",
      "        j = i + 7;\n",
      "        while (True):\n",
      "            if (source[j] == \"<\" and source[j+1] == \"/\" and source[j+2 : j+8].lower() == \"script\"):\n",
      "                source = source[:i] + ' ' + source[j+9:]\n",
      "                break\n",
      "            j = j + 1\n",
      "            if (j > len_source):\n",
      "                break\n",
      "        len_source = len(source)\n",
      "    i = i + 1\n",
      "\n",
      "len_source = len(source)\n",
      "\n",
      "i = 0\n",
      "while (i < len_source):\n",
      "    found = False\n",
      "    if (found != True and source[i] == \"<\" and source[i+1 : i+6].lower() == \"style\"):\n",
      "        found = True;\n",
      "        j = i + 6;\n",
      "        while (True):\n",
      "            if (source[j] == \"<\" and source[j+1] == \"/\" and source[j+2 : j+7].lower() == \"style\"):\n",
      "               \n",
      "                source = source[:i] + ' ' + source[j+8:]\n",
      "                break\n",
      "            j = j + 1\n",
      "            if (j > len_source):\n",
      "                break\n",
      "        len_source = len(source)\n",
      "    i = i + 1\n",
      "\n",
      "len_source = len(source)\n",
      "\n",
      "\n",
      "i = 0\n",
      "while (i < len_source):\n",
      "    found = False\n",
      "    if (found != True and source[i] == \"<\"):\n",
      "        found = True;\n",
      "        j = i + 1;\n",
      "        while (True):\n",
      "            if (source[j] == \">\"):\n",
      "                \n",
      "                source = source[:i] + ' ' + source[j+1:]\n",
      "                break\n",
      "            j = j + 1\n",
      "            if (j > len_source):\n",
      "                break\n",
      "        len_source = len(source)\n",
      "    i = i + 1\n",
      "\n",
      "len_source = len(source)\n",
      "\n",
      "\n",
      "\n",
      "#removing punctuation area\n",
      "source = unicode(source,'utf-8')\n",
      "c=0\n",
      "while(c<len(source)):\n",
      "    if(source[c] in string.punctuation):\n",
      "        source = source[:c] + source[c+1:]\n",
      "        c=0\n",
      "    c=c+1    \n",
      "words = source.split()\n",
      "\n",
      "#making dictionary area\n",
      "diction = {}\n",
      "for words_key in words:\n",
      "    #if already words in dictionary\n",
      "    if(words_key in diction):\n",
      "        diction[words_key] = diction[words_key]+1\n",
      "    #if words not in dictionary \n",
      "    else:\n",
      "        diction[words_key] = 1\n",
      "\n",
      "\n",
      "import pickle    \n",
      "f = open('cse.kut.ac.kr.words.frequency', 'w') \n",
      "pickle.dump(diction, f)\n",
      "f.close()  \n",
      "f = open('cse.kut.ac.kr.words.frequency')\n",
      "x = pickle.load(f)   \n",
      "print '{',\n",
      "for k,v in x.items():    \n",
      "    print '\\\"',k,'\\\" :',v,',',\n",
      "print '}'                        \n",
      "\n",
      "f.close()"
     ],
     "language": "python",
     "metadata": {},
     "outputs": [
      {
       "output_type": "stream",
       "stream": "stdout",
       "text": [
        "{ \" 20141020 \" : 1 , \" \ucef4\ud4e8\ud130\uc2a4\ub9c8\ud2b8IT \" : 1 , \" \uac15\uc758\uc790\ub8cc\uc2e4 \" : 1 , \" \ucd94\uc9c4\ud560 \" : 1 , \" \uc2e0\uccad \" : 1 , \" \ucf64\ud14d\uc2dc\uc2a4\ud15c \" : 1 , \" nbsp \" : 1 , \" \uc544\uc774\ub514\uc5b4 \" : 2 , \" \uc81c \" : 1 , \" E2FEST \" : 1 , \" \uc81c6\ud68c \" : 1 , \" \ubaa8\uc9d1 \" : 2 , \" 20141112 \" : 1 , \" 20141118 \" : 3 , \" 2014 \" : 3 , \" \ub3d9\ubb38\uac8c\uc2dc\ud310 \" : 1 , \" \uc0ac\uc9c4\uac8c\uc2dc\ud310 \" : 1 , \" 20141031 \" : 2 , \" EampM \" : 1 , \" \uac1c\ubc1c\uc790 \" : 1 , \" \uc778\ub825 \" : 1 , \" TOEIC \" : 1 , \" \uc138\ubbf8 \" : 1 , \" \ud574\uc678\uae30\uc220\ubd09\uc0ac \" : 1 , \" Specialist\uc81c \" : 1 , \" \ud32c\ud0dd \" : 1 , \" \ubaa8\uc9d1\uc694\uac15 \" : 1 , \" \ud574\ud0b9\ubcf4\uc548 \" : 1 , \" \uc8fc\ucf5c\ub7ec\ub178\ube44\ud0c0 \" : 1 , \" \uc218\uc815 \" : 1 , \" \uc7a5\ud559\uae08 \" : 1 , \" Tmoney\ud55c\uad6d\uc2a4\ub9c8\ud2b8\uce74\ub4dc \" : 1 , \" IDIS \" : 1 , \" \uc5ed\ub7c9\uac15\ud654 \" : 1 , \" \uc9c0\uc2a4\ud0c0 \" : 1 , \" 20141105 \" : 1 , \" quot\uc7ac\uc785\ucc30 \" : 1 , \" \uc544\uc774\ub514\uc2a4\uc804\uc790\uc2e0\ubb38 \" : 1 , \" Spe \" : 1 , \" 20140327 \" : 1 , \" Festival \" : 1 , \" \ud559\ud68c\uc7a5\ubd80\ud559 \" : 1 , \" \uc878\uc5c5\uc791\ud488 \" : 2 , \" \ud3b8\ud5a5 \" : 1 , \" \uad50\uc721\ubaa9\ud45c \" : 1 , \" \ucef4\ud4e8\ud130SW \" : 1 , \" 20131007 \" : 1 , \" 2013\ub144 \" : 1 , \" 4\ub300 \" : 1 , \" \uace0\uc7a5\uc2e0\uace0\uac8c\uc2dc\ud310 \" : 1 , \" MAMA\uc5d0 \" : 1 , \" \uacf5\ud559\uc124\uacc4 \" : 2 , \" \uc2e0\uc785\uc0ac\uc6d0 \" : 1 , \" \ud504\ub85c\uadf8\ub7a8 \" : 1 , \" 2014\ub144 \" : 1 , \" \ub300\ud559\uc6d0\uac8c\uc2dc\ud310 \" : 1 , \" \ud559\ubd80\uc0ac\uc9c4\uac94\ub7ec\ub9ac \" : 1 , \" \uc124\uacc41 \" : 1 , \" C \" : 1 , \" \uc2dc\uc2a4\ud15c \" : 1 , \" \uad6c\ucd95 \" : 1 , \" \ud544\uc218 \" : 1 , \" \ucef4\ud4e8\ud130\uacf5\ud559\ubd80 \" : 3 , \" \ud654\uc774\ud2b8\ud587 \" : 1 , \" 20141121 \" : 7 , \" 20141120 \" : 2 , \" 20120909 \" : 1 , \" 2014\uc11c \" : 1 , \" \uacf5\uc9c0\uc0ac\ud56d \" : 1 , \" quotMOTPSM\ud074\ub7ec \" : 1 , \" \ud544\ub3c5 \" : 1 , \" \uacf5\ud559\uc778\uc99d\uc548\ub0b4 \" : 1 , \" 20121105 \" : 1 , \" 13rh \" : 1 , \" \ud648\ud398\uc774\uc9c0 \" : 1 , \" IT\uc735\ud569 \" : 2 , \" \uc790\uc720\uac8c\uc2dc\ud310 \" : 1 , \" 1\ud68c \" : 1 , \" 2 \" : 1 , \" 20141014 \" : 3 , \" \uc7a5\ud559\uc81c\ub3c4 \" : 1 , \" \ucde8\uc5c5\uc870\uc0ac2013 \" : 1 , \" \ucde8\uc5c5\uc870\uc0ac2014 \" : 1 , \" \uc785\uc2dcQA \" : 1 , \" \ube0c\ub85c\uc154 \" : 1 , \" CJ \" : 1 , \" 2015\ud559\ub144\ub3c4 \" : 1 , \" HUST \" : 1 , \" \ud559\uc0dd\ud68c \" : 1 , \" \uacf5\ud559\uc778\uc99d\uac8c\uc2dc\ud310 \" : 1 , \" \uc720\ucc30 \" : 1 , \" 20141119 \" : 2 , \" \ud2b9\uc131\ud654 \" : 8 , \" \uacbd\uc9c4\ub300 \" : 2 , \" \uc138 \" : 1 , \" 20141016 \" : 1 , \" \ucc44\uc6a9 \" : 2 , \" \uad11\uace0\ud64d\ubcf4\ud559\ud68c \" : 1 , \" \ucef4\ud4e8\ud130\uc2dc\uc2a4\ud15c\uc751\uc6a9 \" : 1 , \" \ucc3e\uc544\uc624\uc2dc\ub294\uae38 \" : 1 , \" \uc548\ub0b4 \" : 1 , \" \uc570 \" : 1 , \" U\ud3c9 \" : 1 , \" KT \" : 1 , \" \uc138\ub9bc\ud2f0\ub124\uc2a4\uc9c0\uc8fc \" : 1 , \" \uacf5\uace0 \" : 1 , \" \ucf58\ud14c\uc2a4\ud2b8 \" : 1 , \" \ub300\ud559\uc6d0\uc18c\uac1c \" : 1 , \" \uc5f0\uad6c\uc2e4\uc18c\uac1c \" : 1 , \" Toeic \" : 1 , \" \ub300\ud559\uc6d0 \" : 1 , \" LG\uc720\ud50c\ub7ec\uc2a4 \" : 1 , \" \uad50\uc218\uc9c4 \" : 1 , \" Hacking \" : 1 , \" 20140924 \" : 1 , \" \uc11c\uc2dd\ubc0f\uc591\uc2dd\uc790\ub8cc\uc2e4 \" : 1 , \" 1 \" : 1 , \" \ubcf8\uc785\ucc30 \" : 1 , \" \ucc38\uc11d \" : 1 , \" \ucef4\ud4e8\ud130HW \" : 1 , \" \ud2b8\uc704\ud130 \" : 1 , \" \ud655\ub300 \" : 1 , \" \ucd94\uac00 \" : 1 , \" 3\ud559\ub144 \" : 1 , \" 20131210 \" : 1 , \" \ud574\uc0c1\ud1b5\uc2e0\ub9dd \" : 1 , \" \uc9c0\uc0c1\ud30c \" : 1 , \" \ub514\uc9c0\ud138 \" : 1 , \" 1\ud559\ub144 \" : 1 , \" \ud22c\ud45c \" : 1 , \" \uc775\uba85\uac8c\uc2dc\ud310 \" : 1 , \" 20140930 \" : 1 , \" \uc2e4\uc2b5\uc870\uad50 \" : 1 , \" \ucde8\uc5c5\uac8c\uc2dc\ud310 \" : 1 , \" \uc77c\ubc18\uc790\ub8cc\uc2e4 \" : 1 , \" \ud3ec\uc2a4\ud130\ubc1c\ud45c\uacbd\uc9c4\ub300\ud68c \" : 1 , \" \uc878\uc5c5\uc774\uc218\uc694\uac74 \" : 1 , \" OPIc \" : 1 , }\n"
       ]
      }
     ],
     "prompt_number": 6
    },
    {
     "cell_type": "heading",
     "level": 4,
     "metadata": {},
     "source": [
      "[9\ubc88 \ubb38\uc81c] \uc704 \ubb38\uc81c\uc5d0\uc11c \uc800\uc7a5\ud55c \ubaa8\ub4e0 words.frequency \ud30c\uc77c\ub4e4\uc744 \ub85c\ub4dc \ud558\uc5ec \ubcf8\uc778\uc774 \uc800\uc7a5\ud558\uc5ec \ubd84\uc11d\ud55c \uc0ac\uc774\ud2b8\ub4e4\uc5d0\uc11c \uac00\uc7a5 \ub9ce\uc774 \ucd9c\ud604\ud55c \ub2e8\uc5b4\ub97c \ubf51\uc544 \uc81c\uc2dc\ud558\uc2dc\uc624."
     ]
    },
    {
     "cell_type": "markdown",
     "metadata": {},
     "source": [
      "    8\ubc88 \ubb38\uc81c\uc640\ub294 \ub2e4\ub978 \ubcc4\ub3c4\uc758 \ud504\ub85c\uadf8\ub7a8\uc73c\ub85c \uc791\uc131\ud558\uc2dc\uc624."
     ]
    },
    {
     "cell_type": "markdown",
     "metadata": {},
     "source": [
      "9_\ub2f5)"
     ]
    },
    {
     "cell_type": "code",
     "collapsed": false,
     "input": [
      "# -*- coding: utf-8 -*-\n",
      "import pickle    \n",
      "\n",
      "#1\n",
      "f = open('cse.kut.ac.kr.words.frequency')\n",
      "cse = pickle.load(f) \n",
      " \n",
      "f.close()\n",
      "\n",
      "\n",
      "#2\n",
      "f = open('www.yahoo.com.words.frequency')\n",
      "koreatech = pickle.load(f) \n",
      "\n",
      "f.close()\n",
      "\n",
      "\n",
      "#3\n",
      "f = open('www.naver.com.words.frequency')\n",
      "naver = pickle.load(f) \n",
      "\n",
      "f.close()\n",
      "\n",
      "\n",
      "#4\n",
      "f = open('www.nate.com.words.frequency')\n",
      "daum = pickle.load(f) \n",
      "\n",
      "f.close()\n",
      "\n",
      "#5\n",
      "f = open('www.dropbox.com.words.frequency')\n",
      "link = pickle.load(f) \n",
      "\n",
      "f.close()\n",
      "\n",
      "Tuple = (cse,koreatech, naver,daum,link)\n",
      "f = open('pickle.txt', 'w') \n",
      "pickle.dump(Tuple, f)       \n",
      "f.close() \n",
      "\n",
      "f=open('pickle.txt')\n",
      "x,y,z,w,u=pickle.load(f)\n",
      "\n",
      "f.close() \n",
      "\n",
      "tmp = x.items() + y.items() + z.items() + w.items() + u.items()\n",
      "\n",
      "\n",
      "def mycmp(a1,a2):\n",
      "    return cmp(a1[1],a2[1])\n",
      "\n",
      "diction = dict(tmp)\n",
      "\n",
      "items=diction.items()\n",
      "items.sort(mycmp, reverse = True)\n",
      "\n",
      "for k,v in items:\n",
      "    print k,v"
     ],
     "language": "python",
     "metadata": {},
     "outputs": [
      {
       "ename": "IOError",
       "evalue": "[Errno 2] No such file or directory: 'www.yahoo.com.words.frequency'",
       "output_type": "pyerr",
       "traceback": [
        "\u001b[1;31m---------------------------------------------------------------------------\u001b[0m\n\u001b[1;31mIOError\u001b[0m                                   Traceback (most recent call last)",
        "\u001b[1;32m<ipython-input-12-1b7af0ee9938>\u001b[0m in \u001b[0;36m<module>\u001b[1;34m()\u001b[0m\n\u001b[0;32m     10\u001b[0m \u001b[1;33m\u001b[0m\u001b[0m\n\u001b[0;32m     11\u001b[0m \u001b[1;31m#2\u001b[0m\u001b[1;33m\u001b[0m\u001b[1;33m\u001b[0m\u001b[0m\n\u001b[1;32m---> 12\u001b[1;33m \u001b[0mf\u001b[0m \u001b[1;33m=\u001b[0m \u001b[0mopen\u001b[0m\u001b[1;33m(\u001b[0m\u001b[1;34m'www.yahoo.com.words.frequency'\u001b[0m\u001b[1;33m)\u001b[0m\u001b[1;33m\u001b[0m\u001b[0m\n\u001b[0m\u001b[0;32m     13\u001b[0m \u001b[0mkoreatech\u001b[0m \u001b[1;33m=\u001b[0m \u001b[0mpickle\u001b[0m\u001b[1;33m.\u001b[0m\u001b[0mload\u001b[0m\u001b[1;33m(\u001b[0m\u001b[0mf\u001b[0m\u001b[1;33m)\u001b[0m\u001b[1;33m\u001b[0m\u001b[0m\n\u001b[0;32m     14\u001b[0m \u001b[1;33m\u001b[0m\u001b[0m\n",
        "\u001b[1;31mIOError\u001b[0m: [Errno 2] No such file or directory: 'www.yahoo.com.words.frequency'"
       ]
      }
     ],
     "prompt_number": 12
    },
    {
     "cell_type": "code",
     "collapsed": false,
     "input": [],
     "language": "python",
     "metadata": {},
     "outputs": [],
     "prompt_number": 10
    },
    {
     "cell_type": "code",
     "collapsed": false,
     "input": [],
     "language": "python",
     "metadata": {},
     "outputs": []
    }
   ],
   "metadata": {}
  }
 ]
}