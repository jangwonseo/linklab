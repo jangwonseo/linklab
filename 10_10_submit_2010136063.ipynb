{
 "metadata": {
  "name": "",
  "signature": "sha256:e200c73def7ebe4d8c57dc2009ec01f143cd035429372b0f2374ae59eb98f2c1"
 },
 "nbformat": 3,
 "nbformat_minor": 0,
 "worksheets": [
  {
   "cells": [
    {
     "cell_type": "heading",
     "level": 1,
     "metadata": {},
     "source": [
      "2014/10/19 submit homework \n",
      "starting.....\n",
      "-----------------------------------------------------------------------"
     ]
    },
    {
     "cell_type": "heading",
     "level": 4,
     "metadata": {},
     "source": [
      "\ubb38\uc81c 1. L=[1, 2, 3, 4, 5]\uc77c \ub54c \ub2e4\uc74c \uac01 \ubb38\uc7a5\uc744 \uc218\ud589\ud55c \ud6c4\uc758 \uacb0\uacfc\ub97c \ubcf4\uace0 \ub0a9\ub4dd\ud560 \ub9cc\ud55c \uc774\uc720\ub97c \uc124\uba85\ud558\uc2dc\uc624."
     ]
    },
    {
     "cell_type": "code",
     "collapsed": false,
     "input": [
      "L=[1, 2, 3, 4, 5]\n",
      "L[1:3] = [100]\n",
      "print L"
     ],
     "language": "python",
     "metadata": {},
     "outputs": [
      {
       "output_type": "stream",
       "stream": "stdout",
       "text": [
        "[1, 100, 4, 5]\n"
       ]
      }
     ],
     "prompt_number": 2
    },
    {
     "cell_type": "markdown",
     "metadata": {},
     "source": [
      "-> L[1:3] = 100 \uc774 \uc758\ubbf8 \ud558\ub294 \ubc14\ub294 \ub9ac\uc2a4\ud2b8 \uc778\ub371\uc2a4 1\uc774\uc0c1 3\ubbf8\ub9cc\uc758 \ub9ac\uc2a4\ud2b8 \uac12\uc744 100\uc73c\ub85c \ub300\uccb4\ud558\ub77c\ub294 \ub73b\uc774\ub2e4. \uadf8\ub7ec\ubbc0\ub85c 2,3 \uc774 100\uc73c\ub85c \ub300\uccb4\ub418\uc5c8\ub2e4."
     ]
    },
    {
     "cell_type": "code",
     "collapsed": false,
     "input": [
      "L=[1, 2, 3, 4, 5]\n",
      "L[1:3] = [(100)]\n",
      "print L"
     ],
     "language": "python",
     "metadata": {},
     "outputs": [
      {
       "output_type": "stream",
       "stream": "stdout",
       "text": [
        "[1, 100, 4, 5]\n"
       ]
      }
     ],
     "prompt_number": 4
    },
    {
     "cell_type": "markdown",
     "metadata": {},
     "source": [
      "-> L[1:3] = [(100)]\uc774 \uc758\ubbf8\ud558\ub294 \ubc14\ub294 \ub9ac\uc2a4\ud2b8 \uc778\ub371\uc2a4 1\uc774\uc0c1 3\ubbf8\ub9cc\uc758 \ub9ac\uc2a4\ud2b8 \uac12\uc744 \ud29c\ud50c 100\uc744 \uc6d0\uc18c\ub85c\ud558\ub294 \ub9ac\uc2a4\ud2b8\ub85c \ub300\uccb4\ud558\ub77c\ub294 \ub73b\uc774\ubbc0\ub85c 2,3\uc774 100\uc73c\ub85c \ub300\uccb4\ub418\uc5c8\ub2e4."
     ]
    },
    {
     "cell_type": "code",
     "collapsed": false,
     "input": [
      "L=[1, 2, 3, 4, 5]\n",
      "L[1:3] = 100\n",
      "print L"
     ],
     "language": "python",
     "metadata": {},
     "outputs": [
      {
       "ename": "TypeError",
       "evalue": "can only assign an iterable",
       "output_type": "pyerr",
       "traceback": [
        "\u001b[1;31m---------------------------------------------------------------------------\u001b[0m\n\u001b[1;31mTypeError\u001b[0m                                 Traceback (most recent call last)",
        "\u001b[1;32m<ipython-input-5-1ad846aab580>\u001b[0m in \u001b[0;36m<module>\u001b[1;34m()\u001b[0m\n\u001b[0;32m      1\u001b[0m \u001b[0mL\u001b[0m\u001b[1;33m=\u001b[0m\u001b[1;33m[\u001b[0m\u001b[1;36m1\u001b[0m\u001b[1;33m,\u001b[0m \u001b[1;36m2\u001b[0m\u001b[1;33m,\u001b[0m \u001b[1;36m3\u001b[0m\u001b[1;33m,\u001b[0m \u001b[1;36m4\u001b[0m\u001b[1;33m,\u001b[0m \u001b[1;36m5\u001b[0m\u001b[1;33m]\u001b[0m\u001b[1;33m\u001b[0m\u001b[0m\n\u001b[1;32m----> 2\u001b[1;33m \u001b[0mL\u001b[0m\u001b[1;33m[\u001b[0m\u001b[1;36m1\u001b[0m\u001b[1;33m:\u001b[0m\u001b[1;36m3\u001b[0m\u001b[1;33m]\u001b[0m \u001b[1;33m=\u001b[0m \u001b[1;36m100\u001b[0m\u001b[1;33m\u001b[0m\u001b[0m\n\u001b[0m\u001b[0;32m      3\u001b[0m \u001b[1;32mprint\u001b[0m \u001b[0mL\u001b[0m\u001b[1;33m\u001b[0m\u001b[0m\n",
        "\u001b[1;31mTypeError\u001b[0m: can only assign an iterable"
       ]
      }
     ],
     "prompt_number": 5
    },
    {
     "cell_type": "markdown",
     "metadata": {},
     "source": [
      "-> \ub9ac\uc2a4\ud2b8\uc5d0 \ub9ac\uc2a4\ud2b8\ub97c \ub300\uccb4, \uc0bd\uc785 \ud560 \uc218\ub294 \uc788\uc9c0\ub9cc INT \ud0c0\uc785\uc740 \uac2f\uc218\uac00 \ub2e4\ub974\uba74 \ub300\uccb4\ud560 \uc218 \uc5c6\ub2e4."
     ]
    },
    {
     "cell_type": "code",
     "collapsed": false,
     "input": [
      "L=[1, 2, 3, 4, 5]\n",
      "L[1:3] = (100)\n",
      "print L"
     ],
     "language": "python",
     "metadata": {},
     "outputs": [
      {
       "ename": "TypeError",
       "evalue": "can only assign an iterable",
       "output_type": "pyerr",
       "traceback": [
        "\u001b[1;31m---------------------------------------------------------------------------\u001b[0m\n\u001b[1;31mTypeError\u001b[0m                                 Traceback (most recent call last)",
        "\u001b[1;32m<ipython-input-6-143eddb86e76>\u001b[0m in \u001b[0;36m<module>\u001b[1;34m()\u001b[0m\n\u001b[0;32m      1\u001b[0m \u001b[0mL\u001b[0m\u001b[1;33m=\u001b[0m\u001b[1;33m[\u001b[0m\u001b[1;36m1\u001b[0m\u001b[1;33m,\u001b[0m \u001b[1;36m2\u001b[0m\u001b[1;33m,\u001b[0m \u001b[1;36m3\u001b[0m\u001b[1;33m,\u001b[0m \u001b[1;36m4\u001b[0m\u001b[1;33m,\u001b[0m \u001b[1;36m5\u001b[0m\u001b[1;33m]\u001b[0m\u001b[1;33m\u001b[0m\u001b[0m\n\u001b[1;32m----> 2\u001b[1;33m \u001b[0mL\u001b[0m\u001b[1;33m[\u001b[0m\u001b[1;36m1\u001b[0m\u001b[1;33m:\u001b[0m\u001b[1;36m3\u001b[0m\u001b[1;33m]\u001b[0m \u001b[1;33m=\u001b[0m \u001b[1;33m(\u001b[0m\u001b[1;36m100\u001b[0m\u001b[1;33m)\u001b[0m\u001b[1;33m\u001b[0m\u001b[0m\n\u001b[0m\u001b[0;32m      3\u001b[0m \u001b[1;32mprint\u001b[0m \u001b[0mL\u001b[0m\u001b[1;33m\u001b[0m\u001b[0m\n",
        "\u001b[1;31mTypeError\u001b[0m: can only assign an iterable"
       ]
      }
     ],
     "prompt_number": 6
    },
    {
     "cell_type": "markdown",
     "metadata": {},
     "source": [
      "->\ud29c\ud50c\uc774 \ub9ac\uc2a4\ud2b8\ub97c \ub300\uccb4\ud560 \ub54c \ub300\uccb4\uc218\ubcf4\ub2e4 \uac2f\uc218\uac00 \uc801\uc73c\uba74 \ub300\uccb4 \ud560 \uc218 \uc5c6\ub2e4. "
     ]
    },
    {
     "cell_type": "code",
     "collapsed": false,
     "input": [
      "L=[1, 2, 3, 4, 5]\n",
      "L[1:3] = (100, 101, 102)\n",
      "print L"
     ],
     "language": "python",
     "metadata": {},
     "outputs": [
      {
       "output_type": "stream",
       "stream": "stdout",
       "text": [
        "[1, 100, 101, 102, 4, 5]\n"
       ]
      }
     ],
     "prompt_number": 7
    },
    {
     "cell_type": "markdown",
     "metadata": {},
     "source": [
      "->\ud29c\ud50c\uc774 \ub9ac\uc2a4\ud2b8\ub97c \ub300\uccb4 \ud560 \ub54c \ub300\uccb4\uc218\ubcf4\ub2e4 \uac2f\uc218\uac00 \ub9ce\uc740\uba74 \ub300\uccb4 \ud560 \uc218 \uc788\ub2e4. "
     ]
    },
    {
     "cell_type": "code",
     "collapsed": false,
     "input": [
      "L=[1, 2, 3, 4, 5]\n",
      "L[1:3] = [100, 101, 102]\n",
      "print L"
     ],
     "language": "python",
     "metadata": {},
     "outputs": [
      {
       "output_type": "stream",
       "stream": "stdout",
       "text": [
        "[1, 100, 101, 102, 4, 5]\n"
       ]
      }
     ],
     "prompt_number": 2
    },
    {
     "cell_type": "markdown",
     "metadata": {},
     "source": [
      "->\ub9ac\uc2a4\ud2b8\ub294 \ub300\uccb4\ud560 \ub9ac\uc2a4\ud2b8 \uc6d0\uc18c\uc218\ubcf4\ub2e4 \uac2f\uc218\uac00 \uc801\ub4e0 \ub9ce\ub4e0 \ub300\uccb4 \ud560 \uc218 \uc788\ub2e4. "
     ]
    },
    {
     "cell_type": "code",
     "collapsed": false,
     "input": [
      "L=[1, 2, 3, 4, 5]\n",
      "L[1:3] = [(100, 101, 102)]\n",
      "print L"
     ],
     "language": "python",
     "metadata": {},
     "outputs": [
      {
       "output_type": "stream",
       "stream": "stdout",
       "text": [
        "[1, (100, 101, 102), 4, 5]\n"
       ]
      }
     ],
     "prompt_number": 1
    },
    {
     "cell_type": "markdown",
     "metadata": {},
     "source": [
      "-> \ub9ac\uc2a4\ud2b8\ub808 \ub458\ub7ec\uc2f8\uc778 \ud29c\ud50c\ub610\ud55c \ud558\ub098\uc758 \ub9ac\uc2a4\ud2b8\ub85c \ucc98\ub9ac\ub418\uc5b4 \uac2f\uc218\uac00 \ub2ec\ub77c\ub3c4 \ub9ac\uc2a4\ud2b8\ub85c \ubcf4\uba74 \uac2f\uc218\uac00 \ud55c\uac1c\uc774\ubbc0\ub85c \ub300\uccb4 \ud560 \uc218 \uc788\ub2e4."
     ]
    },
    {
     "cell_type": "code",
     "collapsed": false,
     "input": [
      "L=[1, 2, 3, 4, 5]\n",
      "L[1:3] = [[100, 101, 102]]\n",
      "print L\n",
      "print '- - - - - - - - - - - - - - - - - - - - - - - - - - - - - - - - - - - - - - - - - - - - - - - - - -'"
     ],
     "language": "python",
     "metadata": {},
     "outputs": [
      {
       "output_type": "stream",
       "stream": "stdout",
       "text": [
        "[1, [100, 101, 102], 4, 5]\n",
        "- - - - - - - - - - - - - - - - - - - - - - - - - - - - - - - - - - - - - - - - - - - - - - - - - -\n"
       ]
      }
     ],
     "prompt_number": 3
    },
    {
     "cell_type": "markdown",
     "metadata": {},
     "source": [
      "-> \ub9ac\uc2a4\ud2b8\ub97c \ub9ac\uc2a4\ud2b8\ub85c \ub300\uccb4\ud560 \ub54c\ub294 \uac1c\uc218\uc758 \uc81c\ud55c\uc774 \uc5c6\ub2e4. "
     ]
    },
    {
     "cell_type": "heading",
     "level": 4,
     "metadata": {},
     "source": [
      "\ubb38\uc81c2. \ubb38\uc790\uc5f4 S = 'Hello World and Python'\uc5d0 \ub300\ud574 \ub2e4\uc74c \uc694\uad6c\uc0ac\ud56d\uc5d0 \ub300\ud55c Python \ucf54\ub4dc\ub97c \uc81c\uc2dc\ud558\uc2dc\uc624.\n",
      "1) \ub2e8\uc5b4\uc758 \uc21c\uc11c\uac00 \uc5ed\uc21c\uc73c\ub85c \ub418\uc5b4\uc9c4 \ubb38\uc790\uc5f4 ('Python and World Hello')\uc744 \ub9cc\ub4e4\uace0\n",
      "2) 1)\uc758 \uacb0\uacfc \ubb38\uc790\uc5f4\uc5d0 \ub300\ud574 \uba54\uc18c\ub4dc split\uacfc join\uc744 \uc774\uc6a9\ud558\uc5ec \uacf5\ubc31\uc744 \ubaa8\ub450 \uc5c6\uc5d4 \ubb38\uc790\uc5f4 'PythonandWorldHello'\uc744 \ub9cc\ub4dc\uc2dc\uc624."
     ]
    },
    {
     "cell_type": "code",
     "collapsed": false,
     "input": [
      "S = \"Hello World and Python\"\n",
      "S = S.split()\n",
      "S.reverse()\n",
      "S = S[0]+' '+S[1]+' '+S[2]+' '+S[3]\n",
      "print '1) '+S\n",
      "print\n",
      "S = S.split()\n",
      "S = ''.join(S)\n",
      "print '2) '+S\n",
      "print '- - - - - - - - - - - - - - - - - - - - - - - - - - - - - - - - - - - - - - - - - - - - - - - - - -'"
     ],
     "language": "python",
     "metadata": {},
     "outputs": [
      {
       "output_type": "stream",
       "stream": "stdout",
       "text": [
        "1) Python and World Hello\n",
        "\n",
        "2) PythonandWorldHello\n",
        "- - - - - - - - - - - - - - - - - - - - - - - - - - - - - - - - - - - - - - - - - - - - - - - - - -\n"
       ]
      }
     ],
     "prompt_number": 1
    },
    {
     "cell_type": "markdown",
     "metadata": {},
     "source": [
      "\ubb38\uc81c3. \ub2e4\uc74c \ucf54\ub4dc\ub97c \ubcf4\uace0 \ubb3c\uc74c\uc5d0 \ub2f5\ud558\uc2dc\uc624.\n",
      "\n",
      "a = [1, 2, 3]\n",
      "b = a * 3\n",
      "c = [a] * 3\n",
      "print b\n",
      "print c\n",
      "1) \uc704 \ucf54\ub4dc\ub97c \uc218\ud589\ud55c \uc774\ud6c4 \ub2e4\uc74c \ucf54\ub4dc\ub97c \uc218\ud589\ud55c \ud6c4 b\uc640 c\uc758 \ub0b4\uc6a9\uc744 \ud655\uc778\ud558\uc2dc\uc624.\n",
      "a[0]=0\n",
      "2) b\uc640 c \uac1d\uccb4\uc758 \ucc28\uc774\ub294 \ubb34\uc5c7\uc778\uac00?"
     ]
    },
    {
     "cell_type": "code",
     "collapsed": false,
     "input": [
      "a = [1, 2, 3]\n",
      "b = a * 3\n",
      "c = [a] * 3\n",
      "print b\n",
      "print c\n",
      "print \n",
      "a[0] = 0\n",
      "print '1)'\n",
      "print b\n",
      "print c\n",
      "print \n",
      "print '2)'"
     ],
     "language": "python",
     "metadata": {},
     "outputs": [
      {
       "output_type": "stream",
       "stream": "stdout",
       "text": [
        "[1, 2, 3, 1, 2, 3, 1, 2, 3]\n",
        "[[1, 2, 3], [1, 2, 3], [1, 2, 3]]\n",
        "\n",
        "1)\n",
        "[1, 2, 3, 1, 2, 3, 1, 2, 3]\n",
        "[[0, 2, 3], [0, 2, 3], [0, 2, 3]]\n",
        "\n",
        "2)\n"
       ]
      }
     ],
     "prompt_number": 8
    },
    {
     "cell_type": "markdown",
     "metadata": {},
     "source": [
      "b\uc640 c\uc758 \ucc28\uc774\ub294 shallow copy \uc640 deep copy \ub85c \uc124\uba85\uc774 \uac00\ub2a5\ud558\ub2e4. \n",
      "b\ub294 deep copy \uc600\uae30 \ub54c\ubb38\uc5d0 a\uac1d\uccb4\uc758 \ub0b4\uc6a9\uc744 \ubc14\uafd4\ub3c4 \uacb0\uacfc\uac00 \ubc14\ub00c\uc9c0 \uc54a\uc558\uace0 \n",
      "c\ub294 shallow copy \uc600\uae30 \ub54c\ubb38\uc5d0 a\uac1d\uccb4\uc758 \ub0b4\uc6a9\uc744 \ubc14\uafbc \uacb0\uacfc\uac00 c \uc5d0\ub3c4 \ubc18\uc601\ub418\uc5c8\ub2e4. \n",
      "b\ub294 a\ub9ac\uc2a4\ud2b8\ub97c \ub808\ud37c\ub7f0\uc2a4 \ud558\ub294\uac83\uc774 \uc544\ub2c8\ub77c  a\ub9ac\uc2a4\ud2b8 \uac1d\uccb4 \uc790\uccb4\ub97c \ubcf5\uc0ac \ud574\uc11c \ubcc0\uc218 b\uc5d0 \uc62e\uaca8\uc84c\ub294\ub370\n",
      "c\ub294 a\ub9ac\uc2a4\ud2b8\uac1d\uccb4\ub97c \ub9ac\uc2a4\ud2b8\ud654\ud574\uc11c \uc774 \ub9ac\uc2a4\ud2b8 \uac1d\uccb4\uc758 \ucc38\uc870\uac12\uc744 \ubcf5\uc0ac\ud55c \uac83\uc774\ub2e4.\n",
      "- - - - - - - - - - - - - - - - - - - - - - - - - - - - - - - - - - - - - - - - - - - - - - - - - -"
     ]
    },
    {
     "cell_type": "heading",
     "level": 4,
     "metadata": {},
     "source": [
      "\ubb38\uc81c4. \ub2e4\uc74c \ubb38\uc790\uc5f4\uc744 ':'\uc744 \uae30\uc900\uc73c\ub85c \ubd84\ub9ac\ud558\uc5ec \ub9ac\uc2a4\ud2b8\ub85c \ub9cc\ub4e4\uace0 \uac01 \ubb38\uc790\uc5f4\uc758 \uc88c\uc6b0 \uacf5\ubc31\uc744 \uc81c\uac70\ud558\uc2dc\uc624 \n",
      "\uc989, \ubb38\uc790\uc5f4 S\uc5d0\uc11c l\uc744 \ub9cc\ub4e4\uc5b4\ub77c)\n",
      "s = '  first star   :   second star   :    third star  '\n",
      "l = ['first star', 'second star', 'third star']\n",
      "1) for ~ in \ubb38\uc744 \uc774\uc6a9\ud55c \ucf54\ub4dc\ub97c \uc791\uc131\ud558\uc2dc\uc624.\n",
      "2) \ub9ac\uc2a4\ud2b8 \ub0b4\ud3ec(list comprehension)\ub97c \uc774\uc6a9\ud55c \ucf54\ub4dc\ub97c \uc791\uc131\ud558\uc2dc\uc624."
     ]
    },
    {
     "cell_type": "markdown",
     "metadata": {},
     "source": [
      "1) for~in code"
     ]
    },
    {
     "cell_type": "code",
     "collapsed": false,
     "input": [
      "s = '  first star   :   second star   :    third star  '\n",
      "s = s.split(':')\n",
      "y = []\n",
      "for x in s:\n",
      "    x = x.strip()\n",
      "    y.append(x)\n",
      "    \n",
      "print y"
     ],
     "language": "python",
     "metadata": {},
     "outputs": [
      {
       "output_type": "stream",
       "stream": "stdout",
       "text": [
        "['first star', 'second star', 'third star']\n"
       ]
      }
     ],
     "prompt_number": 2
    },
    {
     "cell_type": "markdown",
     "metadata": {},
     "source": [
      "2) list comprehension code"
     ]
    },
    {
     "cell_type": "code",
     "collapsed": false,
     "input": [
      "s = '  first star   :   second star   :    third star  '\n",
      "s = s.split(':')\n",
      "y = []\n",
      "y.append([ x.strip() for x in s])\n",
      "print y"
     ],
     "language": "python",
     "metadata": {},
     "outputs": [
      {
       "output_type": "stream",
       "stream": "stdout",
       "text": [
        "[['first star', 'second star', 'third star']]\n"
       ]
      }
     ],
     "prompt_number": 3
    },
    {
     "cell_type": "heading",
     "level": 4,
     "metadata": {},
     "source": [
      "\ubb38\uc81c 5. \ub2e4\uc74c\uacfc \uac19\uc774 0\ubcf4\ub2e4 \ud070 \uc815\uc218 \ub9ac\uc2a4\ud2b8 \ubcc0\uc218 list\ub97c \uc778\uc790\ub85c \ubc1b\ub294 \ud568\uc218 addall(list)\uc640 addallodd(list)\ub97c \n",
      "for ~ in \ub9ac\ud130\ub110\uacfc \ub9ac\uc2a4\ud2b8 \ub0b4\ud3ec \ubc29\uc2dd\uc73c\ub85c \uac01\uac01 \uc81c\uc2dc\ud558\uc2dc\uc624.\n",
      "1) addall(list) \ud568\uc218 (\ub9ac\uc2a4\ud2b8 \ub0b4\uc758 \ubaa8\ub4e0 \uc815\uc218\ub97c \ub354\ud558\ub294 \ud568\uc218\ub85c\uc11c \ud574\ub2f5\uc73c\ub85c\ub294 for ~ in \ub9ac\ud130\ub7f4\uacfc \ub9ac\uc2a4\ud2b8 \ub0b4\ud3ec \ubc29\uc2dd\uc73c\ub85c \uac01\uac01 \uc81c\uc2dc\ud558\uc2dc\uc624.)\n",
      ">>> addall([1])\n",
      "1\n",
      ">>> addall([1, 2, 3, 4, 5, 6, 7, 8, 9])\n",
      "45\n",
      "2) addallodd(list) \ud568\uc218 (\ub9ac\uc2a4\ud2b8\ub0b4\uc758 \ubaa8\ub4e0 \ud640\uc218\ub97c \ub354\ud558\ub294 \ud568\uc218\ub85c\uc11c \ud574\ub2f5\uc73c\ub85c\ub294 for ~ in \ub9ac\ud130\ub7f4\uacfc \ub9ac\uc2a4\ud2b8 \ub0b4\ud3ec \ubc29\uc2dd\uc73c\ub85c \uac01\uac01 \uc81c\uc2dc\ud558\uc2dc\uc624.)\n",
      ">>> addallodd([1])\n",
      "1\n",
      ">>> addallodd([1, 2, 3, 4, 5, 6, 7, 8, 9])\n",
      "25\n",
      "[\ucc38\uace0 (2014\ub144 10\uc6d4 13\uc77c)]: \ub9ac\uc2a4\ud2b8 \ub0b4\ud3ec \ubc29\uc2dd\uc73c\ub85c addall() \ubc0f addallodd()\ud568\uc218\ub97c \ub9cc\ub4e4 \ub54c\uc5d4 \ub9ac\uc2a4\ud2b8 \ub0b4\ud3ec\uc5d0 \uc758\ud574 \uc0dd\uc131\ub41c \ub9ac\uc2a4\ud2b8 \uacb0\uacfc\uc5d0 \ub300\ud574 \ub0b4\uc7a5 \ud568\uc218\ub97c \uc0ac\uc6a9\ud558\ub294 \ubc29\uc2dd\uc744 \uace0\ub824\ud574\ubcf4\uc2dc\uc624 (\uc8fc\uc758: \ub9ac\uc2a4\ud2b8 \ub0b4\ud3ec \ubc29\uc2dd\uc758 addall() \ubc0f addallodd() \ud568\uc218\uc758 \ubab8\uccb4\ub294 \ub2e8 1\uc904\ub85c \uc791\uc131\ub418\uc5b4\uc57c \ud55c\ub2e4.)"
     ]
    },
    {
     "cell_type": "markdown",
     "metadata": {},
     "source": [
      "1_1) addall(list) for~in code below"
     ]
    },
    {
     "cell_type": "code",
     "collapsed": false,
     "input": [
      "list = [1,2,3,4,5,6,7,8,9]\n",
      "def addall(list):\n",
      "    sum = 0\n",
      "    for x in list:\n",
      "        sum +=x\n",
      "    return sum\n",
      "print addall(list)\n",
      "        "
     ],
     "language": "python",
     "metadata": {},
     "outputs": [
      {
       "output_type": "stream",
       "stream": "stdout",
       "text": [
        "45\n"
       ]
      }
     ],
     "prompt_number": 4
    },
    {
     "cell_type": "markdown",
     "metadata": {},
     "source": [
      "1_2) addall(list) comprehension code below"
     ]
    },
    {
     "cell_type": "code",
     "collapsed": false,
     "input": [
      "list = [1,2,3,4,5,6,7,8,9]\n",
      "def addall(list):\n",
      "    num = [x for x in list]\n",
      "    return sum(num)\n",
      "print addall(list)\n",
      "        "
     ],
     "language": "python",
     "metadata": {},
     "outputs": [
      {
       "output_type": "stream",
       "stream": "stdout",
       "text": [
        "45\n"
       ]
      }
     ],
     "prompt_number": 5
    },
    {
     "cell_type": "markdown",
     "metadata": {},
     "source": [
      "2_1) addallodd(list) for~in code below"
     ]
    },
    {
     "cell_type": "code",
     "collapsed": false,
     "input": [
      "list = [1,2,3,4,5,6,7,8,9]\n",
      "def addallodd(list):\n",
      "    num=0\n",
      "    for x in list: \n",
      "        if(x%2!=0):\n",
      "            num +=x \n",
      "    return num\n",
      "print addallodd(list)\n",
      "        "
     ],
     "language": "python",
     "metadata": {},
     "outputs": [
      {
       "output_type": "stream",
       "stream": "stdout",
       "text": [
        "25\n"
       ]
      }
     ],
     "prompt_number": 7
    },
    {
     "cell_type": "markdown",
     "metadata": {},
     "source": [
      "2_2) addallodd(list) comprehension code below"
     ]
    },
    {
     "cell_type": "code",
     "collapsed": false,
     "input": [
      "list = [1,2,3,4,5,6,7,8,9]\n",
      "def addallodd(list):\n",
      "    num = [ x for x in list if(x%2!=0) ]\n",
      "    return sum(num)\n",
      "print addallodd(list)\n",
      "        "
     ],
     "language": "python",
     "metadata": {},
     "outputs": [
      {
       "output_type": "stream",
       "stream": "stdout",
       "text": [
        "25\n"
       ]
      }
     ],
     "prompt_number": 6
    },
    {
     "cell_type": "heading",
     "level": 4,
     "metadata": {},
     "source": [
      "\ubb38\uc81c 6. \ub2e4\uc74c \ucf54\ub4dc\ub97c \ubcf4\uace0 \ubb3c\uc74c\uc5d0 \ub2f5\ud558\uc2dc\uc624.\n",
      "L1 = [1, 2, 3]\n",
      "L2 = [4, 5, 6]\n",
      "d = {'low':L1, 'high':L2}\n",
      "e = d\n",
      "f = d.copy()\n",
      "print d\n",
      "print e\n",
      "print f\n",
      "print\n",
      "d['low'] = [10, 20, 30]\n",
      "d['high'][1] = 500\n",
      "print d\n",
      "print e\n",
      "print f\n",
      "1) \uc704 \ucf54\ub4dc\uc758 \uc218\ud589 \uacb0\uacfc d\uc640 e\ub294 \ud56d\uc0c1 \uac19\uc740 \uacb0\uacfc\ub97c \ucd9c\ub825\ud55c\ub2e4. \uadf8 \uc774\uc720\ub294 \ubb34\uc5c7\uc778\uac00?\n",
      "2) \uc704 \ucf54\ub4dc\uc758 \uc218\ud589 \uacb0\uacfc \ub9c8\uc9c0\ub9c9 f\uc758 \ub0b4\uc6a9\uc740 \ub2e4\uc74c\uacfc \uac19\ub2e4. \uc774 \ub54c 'high' \ud0a4\uc758 \uac12 \ub0b4\uc6a9 \uc911 500\uc774 \ucd9c\ub825\ub41c \uc774\uc720\uc640 'low' \ud0a4\uc758 \uac12 \ub0b4\uc6a9 \uc911 [1, 2, 3]\uc774 \ucd9c\ub825\ub41c \uc774\uc720\ub97c \uc124\uba85\ud558\uc2dc\uc624 ([hint]: shallow copy \uad00\uc810\uc5d0\uc11c \uc124\uba85\ud558\uc2dc\uc624.)\n",
      "{'high': [4, 500, 6], 'low': [1, 2, 3]}"
     ]
    },
    {
     "cell_type": "markdown",
     "metadata": {},
     "source": [
      "1) \ub2f5\uc740 shallow copy\uac00 \ub418\uc5c8\uae30 \ub54c\ubb38\uc774\ub2e4. e \ubcc0\uc218\uc5d0 d \uac1d\uccb4\uac00 shallow copy \ub418\uc5c8\uae30 \ub54c\ubb38\uc5d0 d\uac1d\uccb4\uc758 \ub0b4\uc6a9\uc774 \ubcc0\ud558\uba74 d\uac1d\uccb4\ub97c \ucc38\uc870\ud558\ub294 \ubcc0\uc218 e \uc758 \ub808\ud37c\ub7f0\uc2a4\uc5d0 \ub530\ub77c e\ub3c4 \uacb0\uacfc\uac12\uc774 \ubcc0\ud574\uc11c \ubcf4\uc774\uac8c \ub41c\ub2e4."
     ]
    },
    {
     "cell_type": "markdown",
     "metadata": {},
     "source": [
      "2) f \ubcc0\uc218\ub294 d\uac1d\uccb4\ub97c deep copy \ud588\uae30\ub54c\ubb38\uc5d0 d\uac00 \uac00\uc9c4 \ubaa8\ub4e0 \uc815\ubcf4\ub97c \ubcf5\uc0ac\ud574\uc11c \ub2e4\ub978 \uac1d\uccb4\ub85c \uac00\ub9ac\ud0a4\uace0 \uc788\ub2e4. \uadf8\ub807\uae30 \ub54c\ubb38\uc5d0 key->'low' \uc758 value\uc778 \ub9ac\uc2a4\ud2b8\ub97c \ubc14\uafd4\ub3c4 f\ubcc0\uc218\uac00 \uac00\ub9ac\ud0a4\ub294 \uac1d\uccb4\uc5d0\ub294 \ubcc0\ud654\uac00 \uc5c6\ub2e4. \ud558\uc9c0\ub9cc \ub9ac\uc2a4\ud2b8 \ub0b4\ubd80\uc758 \uac12\uc740 \uacb0\uad6d \ub9ac\uc2a4\ud2b8\uc758 \uc694\uc18c\ub97c \ucc38\uc870\ud558\ub294 \uad6c\uc870\uc774\uae30 \ub54c\ubb38\uc5d0 deep copy\ub97c \ud558\ub354\ub77c\ub3c4 \uc694\uc18c\ub294 \uacf5\uc720\ud558\uac8c \ub41c\ub2e4. \uadf8\ub7ec\ubbc0\ub85c d\uc758 high key \uac12\uc758 \uc694\uc18c\ub97c 500\uc73c\ub85c \ubc14\uafb8\uba74 f\uc758 \uac12\ub3c4 \ubc14\ub00c\uac8c \ub41c\ub2e4.\\"
     ]
    },
    {
     "cell_type": "heading",
     "level": 4,
     "metadata": {},
     "source": [
      "\ubb38\uc81c 7. \n",
      "\uc0ac\uc804 d = {'one':1, 'two':2, 'three':3, 'four':4, 'five':5}\uac00 \uc8fc\uc5b4\uc84c\uc744 \ub54c \ub2e4\uc74c \uc694\uad6c\uc0ac\ud56d\uc5d0 \ub9de\ub294 \ucf54\ub4dc\ub97c \uc81c\uc2dc\ud558\uc2dc\uc624\n",
      "[\ucc38\uace0]: d.keys(), d.values()\ub97c \ud1b5\ud574 \ub9ac\uc2a4\ud2b8\ub97c \uc5bb\uc5b4\ub0b8 \ud6c4 \ub9ac\uc2a4\ud2b8\uac00 \uc9c0\ub2c8\uace0 \uc788\ub294 sort(cmp=None, key=None, reverse=False)\ud568\uc218\ub97c \ud65c\uc6a9\ud558\uc2dc\uc624.\n",
      "1) \ud0a4\uc758 \uc54c\ud30c\ubcb3 \uc624\ub984\ucc28\uc21c \uc21c\uc11c\ub300\ub85c \ud29c\ud50c (\ud0a4, \uac12)\uc744 \ucc28\ub840\ub300\ub85c \ucd9c\ub825\ud558\uc2dc\uc624.\n",
      "2) \ud0a4\uc758 \uc54c\ud30c\ubcb3 \ub0b4\ub9bc\ucc28\uc21c \uc21c\uc11c\ub300\ub85c \ud29c\ud50c (\ud0a4, \uac12)\uc744 \ucc28\ub840\ub300\ub85c \ucd9c\ub825\ud558\uc2dc\uc624.\n",
      "3) \uac12\uc758 \uc624\ub984\ucc28\uc21c \uc21c\uc11c\ub300\ub85c \ud29c\ud50c (\ud0a4, \uac12)\uc744 \ucc28\ub840\ub300\ub85c \ucd9c\ub825\ud558\uc2dc\uc624.\n",
      "4) \uac12\uc758 \ub0b4\ub9bc\ucc28\uc21c \uc21c\uc11c\ub300\ub85c \ud29c\ud50c (\ud0a4, \uac12)\uc744 \ucc28\ub840\ub300\ub85c \ucd9c\ub825\ud558\uc2dc\uc624."
     ]
    },
    {
     "cell_type": "markdown",
     "metadata": {},
     "source": [
      "1) key ascending order"
     ]
    },
    {
     "cell_type": "code",
     "collapsed": false,
     "input": [
      "d = {'one':1, 'two':2, 'three':3, 'four':4, 'five':5}\n",
      "d = d.items()\n",
      "d.sort()\n",
      "print d\n"
     ],
     "language": "python",
     "metadata": {},
     "outputs": [
      {
       "output_type": "stream",
       "stream": "stdout",
       "text": [
        "[('five', 5), ('four', 4), ('one', 1), ('three', 3), ('two', 2)]\n"
       ]
      }
     ],
     "prompt_number": 1
    },
    {
     "cell_type": "markdown",
     "metadata": {},
     "source": [
      "2) key descending order"
     ]
    },
    {
     "cell_type": "code",
     "collapsed": false,
     "input": [
      "d = {'one':1, 'two':2, 'three':3, 'four':4, 'five':5}\n",
      "d = d.items()\n",
      "d.sort(reverse=True)\n",
      "print d"
     ],
     "language": "python",
     "metadata": {},
     "outputs": [
      {
       "output_type": "stream",
       "stream": "stdout",
       "text": [
        "[('two', 2), ('three', 3), ('one', 1), ('four', 4), ('five', 5)]\n"
       ]
      }
     ],
     "prompt_number": 2
    },
    {
     "cell_type": "markdown",
     "metadata": {},
     "source": [
      "3) value ascending order"
     ]
    },
    {
     "cell_type": "code",
     "collapsed": false,
     "input": [
      "d = {'one':1, 'two':2, 'three':3, 'four':4, 'five':5}\n",
      "ori_values = d.values()\n",
      "ori_values.sort()\n",
      "for value in ori_values:\n",
      "    for (d_keys, d_value) in d.items():\n",
      "        if(value == d_value):\n",
      "            print d_keys, d_value\n",
      "            \n",
      "            "
     ],
     "language": "python",
     "metadata": {},
     "outputs": [
      {
       "output_type": "stream",
       "stream": "stdout",
       "text": [
        "one 1\n",
        "two 2\n",
        "three 3\n",
        "four 4\n",
        "five 5\n"
       ]
      }
     ],
     "prompt_number": 4
    },
    {
     "cell_type": "markdown",
     "metadata": {},
     "source": [
      "4)value descending order"
     ]
    },
    {
     "cell_type": "code",
     "collapsed": false,
     "input": [
      "d = {'one':1, 'two':2, 'three':3, 'four':4, 'five':5}\n",
      "ori_values = d.values()\n",
      "ori_values.sort(reverse = True)\n",
      "for value in ori_values:\n",
      "    for (d_keys, d_value) in d.items():\n",
      "        if(value == d_value):\n",
      "            print d_keys, d_value\n",
      "            \n",
      "            "
     ],
     "language": "python",
     "metadata": {},
     "outputs": [
      {
       "output_type": "stream",
       "stream": "stdout",
       "text": [
        "five 5\n",
        "four 4\n",
        "three 3\n",
        "two 2\n",
        "one 1\n"
       ]
      }
     ],
     "prompt_number": 2
    },
    {
     "cell_type": "heading",
     "level": 4,
     "metadata": {},
     "source": [
      "\ubb38\uc81c 8. \n",
      "\uc774\uc804 Assignment 2\uc758 \ub9c8\uc9c0\ub9c9 \ubb38\uc81c\ub294 \uc6f9 URL\ub85c \uc9c0\uc815\ub41c \uc6f9\ud398\uc774\uc9c0\ub97c \ubb38\uc790\uc5f4\ub85c \uac00\uc838\uc640 \ubaa8\ub4e0 HTML \ud0dc\uadf8 \ubc0f CSS\uc640 Javascript\ub97c \uc81c\uc678\ud55c \uc21c\uc218 \ud14d\uc2a4\ud2b8\ub97c \uc5bb\uc5b4\ub0b4\uace0 \uadf8 \uc548\uc5d0 \uc874\uc7ac\ud558\ub294 \ub2e8\uc5b4\ub97c \ucd94\ucd9c\ud558\ub294 \ud504\ub85c\uadf8\ub7a8\uc744 \uc791\uc131\ud558\ub294 \uac83\uc774\uc5c8\ub2e4. \uc774\ubc88\uc5d0\ub294 \uadf8 \ub9c8\uc9c0\ub9c9 \uc219\uc81c\ub97c \uadf8\ub300\ub85c \ud655\uc7a5\ud558\uc5ec \uc6f9 URL\ub85c \uc9c0\uc815\ub41c \uc6f9\ud398\uc774\uc9c0 \ub0b4 \uc21c\uc218 \ud14d\uc2a4\ud2b8 \uc548\uc5d0 \uc874\uc7ac\ud558\ub294 \uac01 \ub2e8\uc5b4\ub4e4\uc5d0 \ub300\ud574 \ub2e4\uc74c \uc694\uad6c\uc0ac\ud56d \ub300\ub85c \ucd9c\ub825\ud558\ub294 \ud504\ub85c\uadf8\ub7a8\uc744 \uc791\uc131\ud558\uc2dc\uc624.\n",
      "\uc694\uad6c\uc0ac\ud56d 1. \uc21c\uc218 \ud14d\uc2a4\ud2b8 \uc548\uc5d0 \uc874\uc7ac\ud558\ub294 \ub2e8\uc5b4\ub4e4\uc5d0 \ub300\ud574 string \ubaa8\ub4c8\uc744 \ud65c\uc6a9\ud558\uc5ec \ubaa8\ub4e0 punctuation (\uad6c\ub450\ubb38\uc790)\ub97c \uc644\ubcbd\ud788 \uc81c\uac70\ud558\uc2dc\uc624 (\uad50\uc7ac 166\ud398\uc774\uc9c0 \ucc38\uace0).\n",
      "\uc608: ['world!', ':', '+hello+', '~python$$$', '=', 'world'] ---> ['world', 'hello', 'python', 'world']\n",
      "\uc694\uad6c\uc0ac\ud56d 2. \uac01 \ub2e8\uc5b4\ub4e4\uc758 \ucd9c\ud604\ube48\ub3c4\ub97c \uc0ac\uc804\ud615\ud0dc\ub85c \uc800\uc7a5\ud558\uc5ec \ucd9c\ub825\ud558\uc2dc\uc624.\n",
      "\uc608: ['world', 'hello', 'python', 'world'] ---> {'world': 2, 'hello': 1, 'python': 1}"
     ]
    },
    {
     "cell_type": "code",
     "collapsed": false,
     "input": [
      "# -*- coding: utf-8 -*-\n",
      "import urllib\n",
      "import string\n",
      "\n",
      "source = urllib.urlopen(\"http://cse.kut.ac.kr/\").read()\n",
      "\n",
      "len_source = len(source)\n",
      "\n",
      "source_new = None\n",
      "i = 0\n",
      "while (i < len_source):\n",
      "\tfound = False\n",
      "\tif (found != True and source[i] == \"<\" and source[i+1 : i+7].lower() == \"script\"):\n",
      "\t\tfound = True;\n",
      "\t\tj = i + 7;\n",
      "\t\twhile (True):\n",
      "\t\t\tif (source[j] == \"<\" and source[j+1] == \"/\" and source[j+2 : j+8].lower() == \"script\"):\n",
      "\t\t\t\t#print \"found - script\"\n",
      "\t\t\t\tsource = source[:i] + ' ' + source[j+9:]\n",
      "\t\t\t\tbreak\n",
      "\t\t\tj = j + 1\n",
      "\t\t\tif (j > len_source):\n",
      "\t\t\t\tbreak\n",
      "\t\tlen_source = len(source)\n",
      "\ti = i + 1\n",
      "\n",
      "len_source = len(source)\n",
      "#print len_source\n",
      "\n",
      "i = 0\n",
      "while (i < len_source):\n",
      "\tfound = False\n",
      "\tif (found != True and source[i] == \"<\" and source[i+1 : i+6].lower() == \"style\"):\n",
      "\t\tfound = True;\n",
      "\t\tj = i + 6;\n",
      "\t\twhile (True):\n",
      "\t\t\tif (source[j] == \"<\" and source[j+1] == \"/\" and source[j+2 : j+7].lower() == \"style\"):\n",
      "\t\t\t\t#print \"found - style\"\n",
      "\t\t\t\tsource = source[:i] + ' ' + source[j+8:]\n",
      "\t\t\t\tbreak\n",
      "\t\t\tj = j + 1\n",
      "\t\t\tif (j > len_source):\n",
      "\t\t\t\tbreak\n",
      "\t\tlen_source = len(source)\n",
      "\ti = i + 1\n",
      "\n",
      "len_source = len(source)\n",
      "#print len_source\n",
      "\n",
      "i = 0\n",
      "while (i < len_source):\n",
      "\tfound = False\n",
      "\tif (found != True and source[i] == \"<\"):\n",
      "\t\tfound = True;\n",
      "\t\tj = i + 1;\n",
      "\t\twhile (True):\n",
      "\t\t\tif (source[j] == \">\"):\n",
      "\t\t\t\t#print \"found - HTML tag\"\n",
      "\t\t\t\tsource = source[:i] + ' ' + source[j+1:]\n",
      "\t\t\t\tbreak\n",
      "\t\t\tj = j + 1\n",
      "\t\t\tif (j > len_source):\n",
      "\t\t\t\tbreak\n",
      "\t\tlen_source = len(source)\n",
      "\ti = i + 1\n",
      "\n",
      "len_source = len(source)\n",
      "\n",
      "\n",
      "\n",
      "#removing punctuation area\n",
      "source = unicode(source,'utf-8')\n",
      "c=0\n",
      "while(c<len(source)):\n",
      "    if(source[c] in string.punctuation):\n",
      "        source = source[:c] + source[c+1:]\n",
      "        c=0\n",
      "    c=c+1    \n",
      "words = source.split()\n",
      "\n",
      "\n",
      "for word in words:\n",
      "    print word+\" \",\n",
      "\n",
      "print         \n",
      "print '- - - - - - - - - - - - - - - - - - - - - - - - - - - - - - - -'\n",
      "print \n",
      "\n",
      "#making dictionary area\n",
      "diction = {}\n",
      "for words_key in words:\n",
      "    #if already words in dictionary\n",
      "    if(words_key in diction):\n",
      "        diction[words_key] = diction[words_key]+1\n",
      "    #if words not in dictionary \n",
      "    else:\n",
      "        diction[words_key] = 1\n",
      "\n",
      "\n",
      "#formating dictionary but presentate 'unicode'\n",
      "print diction.items()\n",
      "     \n",
      "print         \n",
      "print '- - - - - - - - - - - - - - - - - - - - - - - - - - - - - - - -'\n",
      "print\n",
      "               \n",
      "                                             \n",
      "#show the simple dictionary_items \n",
      "print '{',\n",
      "for k,v in diction.items():    \n",
      "    print '\\\"',k,'\\\" :',v,',',\n",
      "print '}'\n",
      "\n"
     ],
     "language": "python",
     "metadata": {},
     "outputs": [
      {
       "output_type": "stream",
       "stream": "stdout",
       "text": [
        "\ucef4\ud4e8\ud130\uacf5\ud559\ubd80  \ud648\ud398\uc774\uc9c0  \ucef4\ud4e8\ud130\uacf5\ud559\ubd80  \uad50\uc721\ubaa9\ud45c  \ucc3e\uc544\uc624\uc2dc\ub294\uae38  \uc878\uc5c5\uc791\ud488  \uacf5\ud559\uc124\uacc4  \ucde8\uc5c5\uc870\uc0ac2014  \ucde8\uc5c5\uc870\uc0ac2013  \uad50\uc218\uc9c4  \ud559\uc0dd\ud68c  \uc878\uc5c5\uc774\uc218\uc694\uac74  \ucef4\ud4e8\ud130SW  \ucef4\ud4e8\ud130HW  \ucef4\ud4e8\ud130\uc2a4\ub9c8\ud2b8IT  \ucef4\ud4e8\ud130\uc2dc\uc2a4\ud15c\uc751\uc6a9  \uc7a5\ud559\uc81c\ub3c4  \ubaa8\uc9d1\uc694\uac15  \uc785\uc2dcQA  \uacf5\uc9c0\uc0ac\ud56d  \uc790\uc720\uac8c\uc2dc\ud310  \uc775\uba85\uac8c\uc2dc\ud310  \ucde8\uc5c5\uac8c\uc2dc\ud310  \ub3d9\ubb38\uac8c\uc2dc\ud310  \uc0ac\uc9c4\uac8c\uc2dc\ud310  \ud559\ubd80\uc0ac\uc9c4\uac94\ub7ec\ub9ac  \uace0\uc7a5\uc2e0\uace0\uac8c\uc2dc\ud310  \uac15\uc758\uc790\ub8cc\uc2e4  \uc77c\ubc18\uc790\ub8cc\uc2e4  \uc11c\uc2dd\ubc0f\uc591\uc2dd\uc790\ub8cc\uc2e4  \ub300\ud559\uc6d0\uc18c\uac1c  \uc5f0\uad6c\uc2e4\uc18c\uac1c  \ub300\ud559\uc6d0\uac8c\uc2dc\ud310  \uacf5\ud559\uc778\uc99d\uc548\ub0b4  \uacf5\ud559\uc778\uc99d\uac8c\uc2dc\ud310  C  20140327  \uacf5\ud559\uc124\uacc4  \ud3ec\uc2a4\ud130\ubc1c\ud45c\uacbd\uc9c4\ub300\ud68c  \ud22c\ud45c  20131210  2013\ub144  \uc878\uc5c5\uc791\ud488  \ube0c\ub85c\uc154  20131007  \uc81c  4\ub300  \ucef4\ud4e8\ud130\uacf5\ud559\ubd80  \ud559\ud68c\uc7a5\ubd80\ud559  20121105  \ub514\uc9c0\ud138  \uc2dc\uc2a4\ud15c  \uc124\uacc41  \uc2e4\uc2b5\uc870\uad50  20120909  \uc18c\ud504\ud2b8\uc6e8\uc5b4\uacf5\ud559  \uc911\uac04\uace0\uc0ac  \uacf5\uc9c0  20141016  \ucef4\ud4e8\ud130\uacf5\ud559\ubd80  \ud559\uc0dd\ub4e4\uc744  \uc704\ud55c  \ub18d\uad6c  20141006  \ud639\uc2dc  \ud64d\uc9c4\ud45c  \uad50\uc218\ub2d8\uc758  \ucef4\ud4e8\ud130  \uad6c  nbsp  2  20141006  \uc18c\ud504\ud2b8\uc6e8\uc5b4  \uac1c\ubc1c\ubcf4\uc548  \uacbd\uc9c4\ub300\ud68c  \uac1c\ucd5c  20141001  2015\ub144  \uc0c1\ubc18\uae30  \uc0bc\uc131  \uc18c\ud504\ud2b8\uc6e8\uc5b4  20140925  \ucf64\ud14d\uc2dc\uc2a4\ud15c  \uc2e0\uc785\uc0ac\uc6d0  \ubaa8\uc9d1  20141016  2014\ub144  Tmoney\ud55a\uad6d\uc2a4\ub9c8\ud2b8\uce74\ub4dc  20141014  \uc138\ub9bc\ud2f0\ub124\uc2a4\uc9c0\uc8fc  \uc778\ub825  \ucc44\uc6a9  \uacf5\uace0  20140930  \uc8fc\uc5e0\ud504\ub860\ud2f0\uc5b4  \uc2dc\uc2a4\ud15c  \uc6b4\uc601\uac1c\ubc1c  20140915  \ucef4\ud4e8\ud130\uacf5\ud559\ubd80  \ud559\ubd80\uc0ac\ubb34\uc2e4  \uccad\ub144\uc778\ud134  20140806  2014\ub144  \uc878\uc5c5  \uae40\uc7ac\uc6b0\ucc98\uc7a5  2014\ub144  \uc2a4\uc2b9  \ud559\uc220\uc81c  \ucef4\ud4e8\ud130\uacf5\ud559\ubd80  \uc878\uc5c5\uc791\ud488  \uc778  20141016  \uc878\uc5c5\uc791\ud488  \ud3ec\uc0c1\uacbd\uc9c4\ub300\ud68c  \uc548\ub0b4  20141015  \ub300\ud559\uc6d0\uc0dd  \ub300\uc0c1  \uc548\uc804\uad50\uc721  \uc548\ub0b4  10  20141014  \ud2b9\uc131\ud654\uc0ac\uc5c5\ub2e8  \uc77c\ubcf8\uae30\uc220\ud0d0\ubc29  \uc120  20141013  2014\ub144  \ud558\ubc18\uae30  \ud154\ucf54\uc6e8\uc5b4\uc8fc  \uc2e0\uc785  20141010  \uc878\uc5c5\uc791\ud488  \uc804\uc2dc\ud68c  \ucef4\ud4e8\ud130\uacf5\ud559\ubd80  \uc778  20141007  \uc7ac\uacf5\uc9c0  12\uc77c  \ub9c8\uac10  \uc878\uc5c5\uc791\ud488  \ud3ec  20141004  LG\uc720\ud50c\ub7ec\uc2a4  \ub9d8\uce742  \uc628\ub77c\uc778  \uad11\uace0  20141017  \uc870\uc774\uc2dc\ud2f0  \u2018\ub2ec\uacfc  \uadf8\ub9bc\uc790\u2019  \ub3d9\ub0a8\uc544  20141017  \uc774\ud604\ub355\uc758  \uc815\ubcf4\ud1b5\uc2e0\ubd80lt201gt\uc720\uc601  20141016  54\u3392  \ud655\ubcf4\ud574\ub3c4  UHD  \ubc29\uc1a1  \uc5b4\ub835\ub2e4\u00b7\u00b7  20141017  \ucd5c\uc591\ud76c  \uc7a5\uad00  \u201c\uad6d\ubbfc  \uc2e0\ub8b0  \uc5bb\ub3c4\ub85d  20141017 \n",
        "- - - - - - - - - - - - - - - - - - - - - - - - - - - - - - - -\n",
        "\n",
        "[(u'\\uc5bb\\ub3c4\\ub85d', 1), (u'\\ud558\\ubc18\\uae30', 1), (u'\\ucef4\\ud4e8\\ud130\\uc2a4\\ub9c8\\ud2b8IT', 1), (u'\\uac15\\uc758\\uc790\\ub8cc\\uc2e4', 1), (u'\\ub18d\\uad6c', 1), (u'\\uac1c\\ucd5c', 1), (u'\\uc774\\ud604\\ub355\\uc758', 1), (u'\\ucf64\\ud14d\\uc2dc\\uc2a4\\ud15c', 1), (u'\\u2018\\ub2ec\\uacfc', 1), (u'nbsp', 1), (u'\\uc878\\uc5c5', 1), (u'\\uc81c', 1), (u'\\uc77c\\ubcf8\\uae30\\uc220\\ud0d0\\ubc29', 1), (u'\\ubaa8\\uc9d1', 1), (u'\\ub3d9\\ubb38\\uac8c\\uc2dc\\ud310', 1), (u'\\uc0ac\\uc9c4\\uac8c\\uc2dc\\ud310', 1), (u'\\ud655\\ubcf4\\ud574\\ub3c4', 1), (u'\\ud64d\\uc9c4\\ud45c', 1), (u'\\uad11\\uace0', 1), (u'\\uc8fc\\uc5e0\\ud504\\ub860\\ud2f0\\uc5b4', 1), (u'\\uc778\\ub825', 1), (u'\\uc2a4\\uc2b9', 1), (u'\\uadf8\\ub9bc\\uc790\\u2019', 1), (u'\\ubaa8\\uc9d1\\uc694\\uac15', 1), (u'\\uacf5\\uc9c0', 1), (u'\\u201c\\uad6d\\ubbfc', 1), (u'\\uacf5\\ud559\\uc778\\uc99d\\uc548\\ub0b4', 1), (u'\\uae40\\uc7ac\\uc6b0\\ucc98\\uc7a5', 1), (u'\\uc2e0\\ub8b0', 1), (u'2013\\ub144', 1), (u'\\uc6b4\\uc601\\uac1c\\ubc1c', 1), (u'20140327', 1), (u'\\uc0bc\\uc131', 1), (u'\\ucc3e\\uc544\\uc624\\uc2dc\\ub294\\uae38', 1), (u'\\uc878\\uc5c5\\uc791\\ud488', 6), (u'\\uad50\\uc721\\ubaa9\\ud45c', 1), (u'\\ucef4\\ud4e8\\ud130SW', 1), (u'Tmoney\\ud55a\\uad6d\\uc2a4\\ub9c8\\ud2b8\\uce74\\ub4dc', 1), (u'20131007', 1), (u'20140806', 1), (u'4\\ub300', 1), (u'\\uace0\\uc7a5\\uc2e0\\uace0\\uac8c\\uc2dc\\ud310', 1), (u'\\uacf5\\ud559\\uc124\\uacc4', 2), (u'\\ud3ec\\uc0c1\\uacbd\\uc9c4\\ub300\\ud68c', 1), (u'12\\uc77c', 1), (u'\\uc7a5\\uad00', 1), (u'\\uc2e0\\uc785\\uc0ac\\uc6d0', 1), (u'2014\\ub144', 4), (u'\\ub300\\ud559\\uc6d0\\uac8c\\uc2dc\\ud310', 1), (u'\\ud559\\ubd80\\uc0ac\\uc9c4\\uac94\\ub7ec\\ub9ac', 1), (u'\\uc815\\ubcf4\\ud1b5\\uc2e0\\ubd80lt201gt\\uc720\\uc601', 1), (u'C', 1), (u'\\uacbd\\uc9c4\\ub300\\ud68c', 1), (u'\\ub9d8\\uce742', 1), (u'\\ud2b9\\uc131\\ud654\\uc0ac\\uc5c5\\ub2e8', 1), (u'\\uc2dc\\uc2a4\\ud15c', 2), (u'\\uc7ac\\uacf5\\uc9c0', 1), (u'\\ucef4\\ud4e8\\ud130\\uacf5\\ud559\\ubd80', 7), (u'UHD', 1), (u'20120909', 1), (u'2015\\ub144', 1), (u'\\uacf5\\uc9c0\\uc0ac\\ud56d', 1), (u'20141001', 1), (u'20141006', 2), (u'20141007', 1), (u'20141004', 1), (u'\\uc5b4\\ub835\\ub2e4\\xb7\\xb7', 1), (u'\\uc18c\\ud504\\ud2b8\\uc6e8\\uc5b4', 2), (u'20121105', 1), (u'\\ud648\\ud398\\uc774\\uc9c0', 1), (u'\\uc120', 1), (u'\\uc0c1\\ubc18\\uae30', 1), (u'\\uc2e0\\uc785', 1), (u'\\uc790\\uc720\\uac8c\\uc2dc\\ud310', 1), (u'\\ub3d9\\ub0a8\\uc544', 1), (u'2', 1), (u'20141015', 1), (u'20141014', 2), (u'\\uc7a5\\ud559\\uc81c\\ub3c4', 1), (u'\\ucde8\\uc5c5\\uc870\\uc0ac2013', 1), (u'\\ucde8\\uc5c5\\uc870\\uc0ac2014', 1), (u'\\uc785\\uc2dcQA', 1), (u'20141013', 1), (u'\\ube0c\\ub85c\\uc154', 1), (u'\\ub300\\ud559\\uc6d0\\uc0dd', 1), (u'\\ub9c8\\uac10', 1), (u'20131210', 1), (u'\\ud559\\uc0dd\\ud68c', 1), (u'\\uacf5\\ud559\\uc778\\uc99d\\uac8c\\uc2dc\\ud310', 1), (u'\\uc704\\ud55c', 1), (u'\\ud559\\ubd80\\uc0ac\\ubb34\\uc2e4', 1), (u'\\ud3ec', 1), (u'20141017', 4), (u'10', 1), (u'20140915', 1), (u'20141016', 4), (u'\\ucc44\\uc6a9', 1), (u'\\uc548\\uc804\\uad50\\uc721', 1), (u'\\ucef4\\ud4e8\\ud130\\uc2dc\\uc2a4\\ud15c\\uc751\\uc6a9', 1), (u'\\ud559\\ud68c\\uc7a5\\ubd80\\ud559', 1), (u'\\uad6c', 1), (u'\\uc548\\ub0b4', 2), (u'20141010', 1), (u'\\ud154\\ucf54\\uc6e8\\uc5b4\\uc8fc', 1), (u'\\uc628\\ub77c\\uc778', 1), (u'\\uc778', 2), (u'\\uc138\\ub9bc\\ud2f0\\ub124\\uc2a4\\uc9c0\\uc8fc', 1), (u'\\uad50\\uc218\\ub2d8\\uc758', 1), (u'\\uacf5\\uace0', 1), (u'\\ub300\\ud559\\uc6d0\\uc18c\\uac1c', 1), (u'\\uc5f0\\uad6c\\uc2e4\\uc18c\\uac1c', 1), (u'54\\u3392', 1), (u'\\ubc29\\uc1a1', 1), (u'LG\\uc720\\ud50c\\ub7ec\\uc2a4', 1), (u'\\uad50\\uc218\\uc9c4', 1), (u'\\ud559\\uc220\\uc81c', 1), (u'20140925', 1), (u'\\ucd5c\\uc591\\ud76c', 1), (u'\\uc911\\uac04\\uace0\\uc0ac', 1), (u'\\uc11c\\uc2dd\\ubc0f\\uc591\\uc2dd\\uc790\\ub8cc\\uc2e4', 1), (u'\\ucef4\\ud4e8\\ud130', 1), (u'\\ud559\\uc0dd\\ub4e4\\uc744', 1), (u'\\ud639\\uc2dc', 1), (u'\\ucef4\\ud4e8\\ud130HW', 1), (u'\\ub300\\uc0c1', 1), (u'\\uc18c\\ud504\\ud2b8\\uc6e8\\uc5b4\\uacf5\\ud559', 1), (u'\\uac1c\\ubc1c\\ubcf4\\uc548', 1), (u'\\uc124\\uacc41', 1), (u'\\ub514\\uc9c0\\ud138', 1), (u'\\ud22c\\ud45c', 1), (u'\\uc775\\uba85\\uac8c\\uc2dc\\ud310', 1), (u'20140930', 1), (u'\\uccad\\ub144\\uc778\\ud134', 1), (u'\\uc870\\uc774\\uc2dc\\ud2f0', 1), (u'\\uc2e4\\uc2b5\\uc870\\uad50', 1), (u'\\ucde8\\uc5c5\\uac8c\\uc2dc\\ud310', 1), (u'\\uc77c\\ubc18\\uc790\\ub8cc\\uc2e4', 1), (u'\\ud3ec\\uc2a4\\ud130\\ubc1c\\ud45c\\uacbd\\uc9c4\\ub300\\ud68c', 1), (u'\\uc878\\uc5c5\\uc774\\uc218\\uc694\\uac74', 1), (u'\\uc804\\uc2dc\\ud68c', 1)]\n",
        "\n",
        "- - - - - - - - - - - - - - - - - - - - - - - - - - - - - - - -\n",
        "\n",
        "{ \" \uc5bb\ub3c4\ub85d \" : 1 , \" \ud558\ubc18\uae30 \" : 1 , \" \ucef4\ud4e8\ud130\uc2a4\ub9c8\ud2b8IT \" : 1 , \" \uac15\uc758\uc790\ub8cc\uc2e4 \" : 1 , \" \ub18d\uad6c \" : 1 , \" \uac1c\ucd5c \" : 1 , \" \uc774\ud604\ub355\uc758 \" : 1 , \" \ucf64\ud14d\uc2dc\uc2a4\ud15c \" : 1 , \" \u2018\ub2ec\uacfc \" : 1 , \" nbsp \" : 1 , \" \uc878\uc5c5 \" : 1 , \" \uc81c \" : 1 , \" \uc77c\ubcf8\uae30\uc220\ud0d0\ubc29 \" : 1 , \" \ubaa8\uc9d1 \" : 1 , \" \ub3d9\ubb38\uac8c\uc2dc\ud310 \" : 1 , \" \uc0ac\uc9c4\uac8c\uc2dc\ud310 \" : 1 , \" \ud655\ubcf4\ud574\ub3c4 \" : 1 , \" \ud64d\uc9c4\ud45c \" : 1 , \" \uad11\uace0 \" : 1 , \" \uc8fc\uc5e0\ud504\ub860\ud2f0\uc5b4 \" : 1 , \" \uc778\ub825 \" : 1 , \" \uc2a4\uc2b9 \" : 1 , \" \uadf8\ub9bc\uc790\u2019 \" : 1 , \" \ubaa8\uc9d1\uc694\uac15 \" : 1 , \" \uacf5\uc9c0 \" : 1 , \" \u201c\uad6d\ubbfc \" : 1 , \" \uacf5\ud559\uc778\uc99d\uc548\ub0b4 \" : 1 , \" \uae40\uc7ac\uc6b0\ucc98\uc7a5 \" : 1 , \" \uc2e0\ub8b0 \" : 1 , \" 2013\ub144 \" : 1 , \" \uc6b4\uc601\uac1c\ubc1c \" : 1 , \" 20140327 \" : 1 , \" \uc0bc\uc131 \" : 1 , \" \ucc3e\uc544\uc624\uc2dc\ub294\uae38 \" : 1 , \" \uc878\uc5c5\uc791\ud488 \" : 6 , \" \uad50\uc721\ubaa9\ud45c \" : 1 , \" \ucef4\ud4e8\ud130SW \" : 1 , \" Tmoney\ud55a\uad6d\uc2a4\ub9c8\ud2b8\uce74\ub4dc \" : 1 , \" 20131007 \" : 1 , \" 20140806 \" : 1 , \" 4\ub300 \" : 1 , \" \uace0\uc7a5\uc2e0\uace0\uac8c\uc2dc\ud310 \" : 1 , \" \uacf5\ud559\uc124\uacc4 \" : 2 , \" \ud3ec\uc0c1\uacbd\uc9c4\ub300\ud68c \" : 1 , \" 12\uc77c \" : 1 , \" \uc7a5\uad00 \" : 1 , \" \uc2e0\uc785\uc0ac\uc6d0 \" : 1 , \" 2014\ub144 \" : 4 , \" \ub300\ud559\uc6d0\uac8c\uc2dc\ud310 \" : 1 , \" \ud559\ubd80\uc0ac\uc9c4\uac94\ub7ec\ub9ac \" : 1 , \" \uc815\ubcf4\ud1b5\uc2e0\ubd80lt201gt\uc720\uc601 \" : 1 , \" C \" : 1 , \" \uacbd\uc9c4\ub300\ud68c \" : 1 , \" \ub9d8\uce742 \" : 1 , \" \ud2b9\uc131\ud654\uc0ac\uc5c5\ub2e8 \" : 1 , \" \uc2dc\uc2a4\ud15c \" : 2 , \" \uc7ac\uacf5\uc9c0 \" : 1 , \" \ucef4\ud4e8\ud130\uacf5\ud559\ubd80 \" : 7 , \" UHD \" : 1 , \" 20120909 \" : 1 , \" 2015\ub144 \" : 1 , \" \uacf5\uc9c0\uc0ac\ud56d \" : 1 , \" 20141001 \" : 1 , \" 20141006 \" : 2 , \" 20141007 \" : 1 , \" 20141004 \" : 1 , \" \uc5b4\ub835\ub2e4\u00b7\u00b7 \" : 1 , \" \uc18c\ud504\ud2b8\uc6e8\uc5b4 \" : 2 , \" 20121105 \" : 1 , \" \ud648\ud398\uc774\uc9c0 \" : 1 , \" \uc120 \" : 1 , \" \uc0c1\ubc18\uae30 \" : 1 , \" \uc2e0\uc785 \" : 1 , \" \uc790\uc720\uac8c\uc2dc\ud310 \" : 1 , \" \ub3d9\ub0a8\uc544 \" : 1 , \" 2 \" : 1 , \" 20141015 \" : 1 , \" 20141014 \" : 2 , \" \uc7a5\ud559\uc81c\ub3c4 \" : 1 , \" \ucde8\uc5c5\uc870\uc0ac2013 \" : 1 , \" \ucde8\uc5c5\uc870\uc0ac2014 \" : 1 , \" \uc785\uc2dcQA \" : 1 , \" 20141013 \" : 1 , \" \ube0c\ub85c\uc154 \" : 1 , \" \ub300\ud559\uc6d0\uc0dd \" : 1 , \" \ub9c8\uac10 \" : 1 , \" 20131210 \" : 1 , \" \ud559\uc0dd\ud68c \" : 1 , \" \uacf5\ud559\uc778\uc99d\uac8c\uc2dc\ud310 \" : 1 , \" \uc704\ud55c \" : 1 , \" \ud559\ubd80\uc0ac\ubb34\uc2e4 \" : 1 , \" \ud3ec \" : 1 , \" 20141017 \" : 4 , \" 10 \" : 1 , \" 20140915 \" : 1 , \" 20141016 \" : 4 , \" \ucc44\uc6a9 \" : 1 , \" \uc548\uc804\uad50\uc721 \" : 1 , \" \ucef4\ud4e8\ud130\uc2dc\uc2a4\ud15c\uc751\uc6a9 \" : 1 , \" \ud559\ud68c\uc7a5\ubd80\ud559 \" : 1 , \" \uad6c \" : 1 , \" \uc548\ub0b4 \" : 2 , \" 20141010 \" : 1 , \" \ud154\ucf54\uc6e8\uc5b4\uc8fc \" : 1 , \" \uc628\ub77c\uc778 \" : 1 , \" \uc778 \" : 2 , \" \uc138\ub9bc\ud2f0\ub124\uc2a4\uc9c0\uc8fc \" : 1 , \" \uad50\uc218\ub2d8\uc758 \" : 1 , \" \uacf5\uace0 \" : 1 , \" \ub300\ud559\uc6d0\uc18c\uac1c \" : 1 , \" \uc5f0\uad6c\uc2e4\uc18c\uac1c \" : 1 , \" 54\u3392 \" : 1 , \" \ubc29\uc1a1 \" : 1 , \" LG\uc720\ud50c\ub7ec\uc2a4 \" : 1 , \" \uad50\uc218\uc9c4 \" : 1 , \" \ud559\uc220\uc81c \" : 1 , \" 20140925 \" : 1 , \" \ucd5c\uc591\ud76c \" : 1 , \" \uc911\uac04\uace0\uc0ac \" : 1 , \" \uc11c\uc2dd\ubc0f\uc591\uc2dd\uc790\ub8cc\uc2e4 \" : 1 , \" \ucef4\ud4e8\ud130 \" : 1 , \" \ud559\uc0dd\ub4e4\uc744 \" : 1 , \" \ud639\uc2dc \" : 1 , \" \ucef4\ud4e8\ud130HW \" : 1 , \" \ub300\uc0c1 \" : 1 , \" \uc18c\ud504\ud2b8\uc6e8\uc5b4\uacf5\ud559 \" : 1 , \" \uac1c\ubc1c\ubcf4\uc548 \" : 1 , \" \uc124\uacc41 \" : 1 , \" \ub514\uc9c0\ud138 \" : 1 , \" \ud22c\ud45c \" : 1 , \" \uc775\uba85\uac8c\uc2dc\ud310 \" : 1 , \" 20140930 \" : 1 , \" \uccad\ub144\uc778\ud134 \" : 1 , \" \uc870\uc774\uc2dc\ud2f0 \" : 1 , \" \uc2e4\uc2b5\uc870\uad50 \" : 1 , \" \ucde8\uc5c5\uac8c\uc2dc\ud310 \" : 1 , \" \uc77c\ubc18\uc790\ub8cc\uc2e4 \" : 1 , \" \ud3ec\uc2a4\ud130\ubc1c\ud45c\uacbd\uc9c4\ub300\ud68c \" : 1 , \" \uc878\uc5c5\uc774\uc218\uc694\uac74 \" : 1 , \" \uc804\uc2dc\ud68c \" : 1 , }\n"
       ]
      }
     ],
     "prompt_number": 10
    },
    {
     "cell_type": "heading",
     "level": 4,
     "metadata": {},
     "source": [
      "    \uc18c\uac10\ubb38 : 1-7\ubc88\uae4c\uc9c0\ub294 \uc870\uae08 \uc0dd\uac01\uc744 \ud558\uba74 \uac04\ub2e8\ud788 \ud480 \uc218 \uc788\ub294 \ubb38\uc81c \uc600\uc9c0\ub9cc 8\ubc88\uc744 \ud480\uba74\uc11c\ub294 \uc2dc\uac04\uc774 \uad49\uc7a5\ud788 \ub9ce\uc774 \uac78\ub838\ub2e4. \ub450\ubc88\uc9f8 \uacfc\uc81c\uc758 \uad50\uc218\ub2d8 \uc18c\uc2a4\ub97c \uc774\uc6a9\ud558\uc600\ub294\ub370 \uad50\uc218\ub2d8\uc758 \uc18c\uc2a4\ub97c \uc774\ud574\ud558\ub294 \uac83\ub3c4 \ud558\ub098\uc758 \uc88b\uc740 \uacf5\ubd80\uac00 \ub41c \uac19\ub2e4. \ud2b9\ud788 \uad50\uc218\ub2d8 \uc18c\uc2a4\uc5d0\uc11c \ud78c\ud2b8\ub97c \uc5bb\uc5b4\uc11c 8\ubc88\uc758 \uc694\uad6c\uc0ac\ud56d 1\ubc88 \ub3c4 \uc27d\uac8c \uc0dd\uac01\ud560 \uc218 \uc788\uc5c8\ub2e4. 2\ubc88 \uc694\uad6c\uc0ac\ud56d\uc744 \ub9cc\uc871\uc2dc\ud0a4\ub824 \ucf54\ub529\uc744 \ud558\uba74\uc11c \ud55c\uae00\uc758 \ud45c\ud604\ubc29\uc2dd\uc774 \uc720\ub2c8\ucf54\ub4dc\ub85c \uc778\ucf54\ub529\ud574\uc57c \ud55c\uae00\uc744 \ud558\ub098\uc758 \ubb38\uc790\ub85c \ubcf8\ub2e4\ub294\uac83\uc744 \uc54c \uc218 \uc788\uc5c8\ub294\ub370 \uc218\uc5c5\uc2dc\uac04\uc5d0 \uc81c\ub300\ub85c \uba38\ub9ac\uc5d0 \ubc15\uc544 \ub193\uc9c0 \uc54a\uc544\uc11c \uadf8\ub7f0 \uba54\uc18c\ub4dc\uac00 \uc788\ub294\uc9c0\uc870\ucc28 \ubab0\ub77c \uc2dc\uac04\uc774 \uad49\uc7a5\ud788 \ub9ce\uc774 \uac78\ub838\ub2e4. \ub2e4\uc74c\ubd80\ud130\ub294 \uc218\uc5c5\uc2dc\uac04\uc5d0 \ubc30\uc6b4\uac83\uc740 \uc808\ub300 \uae4c\uba39\uc9c0 \uc54a\ub3c4\ub85d \ubcf5\uc2b5\ud558\uace0 \ub418\ub1cc\uc774\ub294 \uc5f0\uc2b5\uc744 \ud574\uc57c\uaca0\ub2e4\uace0 \ub290\uaf08\ub2e4.\n",
      "\n",
      "8\ubc88 \uc694\uad6c\uc0ac\ud56d 2\ubc88\uc740 \uc720\ub2c8\ucf54\ub4dc\ub97c \ub2e4\uc2dc utf-8\ubc29\uc2dd\uc73c\ub85c \uc778\ucf54\ub529\ud574\uc57c \ud558\ub294\uac83 \uac19\uc558\ub294\ub370 \uc798\ub418\uc9c0 \uc54a\uc544 \uad6c\uae00\ub9c1\uc744 \uc5c4\uccad \ud588\uc9c0\ub9cc \ub300\ubd80\ubd84\uc758 \uba54\uc18c\ub4dc\uac00 \ub0b4\uac00 \uc0dd\uac01\ud55c\ub300\ub85c \uc81c\ub300\ub85c \uc791\ub3d9\ud558\uc9c0 \uc54a\uc544\uc11c \uacb0\uad6d \uadf8\ub0e5 \uc720\ub2c8\ucf54\ub4dc\uc758 \ubc29\uc2dd\uc73c\ub85c \ud45c\ud604\ud558\uc600\ub2e4. \ub9c8\uc9c0\ub9c9 \ucf54\ub4dc \uacb0\uacfc\ub294 \uc720\ub2c8\ucf54\ub4dc\ub97c \ubcf4\uae30\uc88b\uac8c \uafb8\ubbfc\uac83\uc5d0 \ubd88\uacfc\ud558\ub2e4. "
     ]
    },
    {
     "cell_type": "code",
     "collapsed": false,
     "input": [],
     "language": "python",
     "metadata": {},
     "outputs": []
    },
    {
     "cell_type": "code",
     "collapsed": false,
     "input": [],
     "language": "python",
     "metadata": {},
     "outputs": []
    },
    {
     "cell_type": "code",
     "collapsed": false,
     "input": [],
     "language": "python",
     "metadata": {},
     "outputs": []
    }
   ],
   "metadata": {}
  }
 ]
}