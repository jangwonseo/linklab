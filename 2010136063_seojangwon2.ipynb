{
 "metadata": {
  "name": "",
  "signature": "sha256:d4998969a599c468d9fde61bde15c1f73594dcecdaf8e7e8fc999575b37fed2a"
 },
 "nbformat": 3,
 "nbformat_minor": 0,
 "worksheets": [
  {
   "cells": [
    {
     "cell_type": "markdown",
     "metadata": {},
     "source": [
      "\ubb38\uc81c 1 : \ub2e4\uc74c 6 \uac1c\uc758 Expression\uc5d0 \ub300\ud574 Evaluation \uacb0\uacfc \uac12\uc744 \ucd9c\ub825\ud558\uace0, \ud574\ub2f9 \uacb0\uacfc\uac00 \ub098\uc628 \uc774\uc720\uc5d0 \ub300\ud574 \uc124\uba85\ud558\uc2dc\uc624"
     ]
    },
    {
     "cell_type": "code",
     "collapsed": false,
     "input": [
      "print 1 and 2 and 3 and 4\n",
      "print 1 or 2 or 3 or 4\n",
      "print 1 and 2 or 3 and 4\n",
      "print (1 and 2) or (3 and 4)\n",
      "print 1 or 2 and 3 or 4\n",
      "print (1 or 2) and (3 or 4)"
     ],
     "language": "python",
     "metadata": {},
     "outputs": [
      {
       "output_type": "stream",
       "stream": "stdout",
       "text": [
        "4\n",
        "1\n",
        "2\n",
        "2\n",
        "1\n",
        "3\n"
       ]
      }
     ],
     "prompt_number": 2
    },
    {
     "cell_type": "markdown",
     "metadata": {},
     "source": [
      "\ubb38\uc81c 1_1 \ub2f5 : and \uc5f0\uc0b0\uc790\ub294 \uc55e, \ub4a4 \ud53c \uc5f0\uc0b0\uc790\uac00 \ubaa8\ub450 \ucc38 \uc77c \uacbd\uc6b0 \uc624\ub978\ucabd \ud53c\uc5f0\uc0b0\uc790\uc758 \uac12\uc744 \ucd9c\ub825\ud558\uae30\ub54c\ubb38\uc5d0 \ucd5c\uc885\uc73c\ub85c 4\uac00 \ub098\uc654\ub2e4.\n",
      "\ubb38\uc81c 1_2 \ub2f5 : or\uc5f0\uc0b0\uc790\ub294 \uc55e, \ub4a4 \ud53c\uc5f0\uc0b0\uc790\uac00 \ucc38\uc77c\uacbd\uc6b0 \uc67c\ucabd\uac12\uc744 \ucd9c\ub825\ud558\uae30\ub54c\ubb38\uc5d0 4\uac00 1\uc774 \ucd5c\uc885\uc73c\ub85c \ub098\uc628\ub2e4.\n",
      "\ubb38\uc81c 1_3 \ub2f5 : and\uc5f0\uc0b0\uc790\uac00 or\uc5f0\uc0b0\uc790\ubcf4\ub2e4 \uc5f0\uc0b0\uc6b0\uc120\uc21c\uc704\uac00 \ub192\uae30\ub54c\ubb38\uc5d0 and \uc5f0\uc0b0\uc774 \uba3c\uc800 \uc774\ub8e8\uc5b4\uc9c0\uace0 \ub098\uc911\uc5d0 or \uc5f0\uc0b0\uc774 \uc774\ub8e8\uc5b4\uc84c\ub2e4.\n",
      "\ubb38\uc81c 1_4 \ub2f5 :  ),( \uc5d0 \uc758\ud574 \uc6b0\uc120\uc21c\uc704\uac00 \ud655\uc2e4\ud558\uac8c \uad04\ud638 \uc548\ubd80\ud130 \uc2dc\uc791\ud558\ub294 \uc5f0\uc0b0\uc774 \ub418\uc5c8\ub2e4.\n",
      "\ubb38\uc81c 1_5 \ub2f5 : \uc774 \uc5f0\uc0b0 \uc21c\uc11c\ub294 and \uc5f0\uc0b0\uc5d0 \uc758\ud574 \uac00\uc6b4\ub370 2\uc640 3\uc774 \uc5f0\uc0b0\ub418\uc5b4 3\uc774 \ub098\uc624\uace0 \uc5f0\uc0b0\uc758 \uc21c\uc11c\ub294 \uc67c\ucabd\uc774 \uc624\ub978\ucabd\ubcf4\ub2e4 \uc6b0\uc120\ub418\uc5b4 \uc2dc\uc791\ud558\uae30 \ub54c\ubb38\uc5d0 \ucd5c\uc885 1\uc774 \ub098\uc654\ub2e4.\n",
      "\ubb38\uc81c 1_6 \ub2f5 : \uad04\ud638\uc5d0 \uc758\ud574 and \uc5f0\uc0b0\uc790\uac00 or\uc5f0\uc0b0\uc790\ubcf4\ub2e4 \uc6b0\uc120\uc21c\uc704\uac00 \ub192\uc740\ub370 \ubd88\uad6c\ud558\uace0 and \uc5f0\uc0b0\uc790\ubcf4\ub2e4 \uba3c\uc800 \uc5f0\uc0b0\ub418\uc5c8\ub2e4."
     ]
    },
    {
     "cell_type": "markdown",
     "metadata": {},
     "source": [
      "\ubb38\uc81c 2 : 7/5, -7/5, -(7/5)\uc758 \uacb0\uacfc\ub97c \ud655\uc778\ud558\uace0 \uac01\uac01\uc758 \uacb0\uacfc\uac00 \uc65c \uadf8\ub807\uac8c \ub098\uc624\ub294 \uc9c0 \uc124\uba85\ud558\uc2dc\uc624.\n",
      "        [\ucc38\uace0] \ubaab\uc740 \ud56d\uc0c1 \uc74c\uc758 \ubb34\ud55c\ub300 \ubc29\ud5a5\uc73c\ub85c round up (\ubc18\uc62c\ub9bc) \ub41c\ub2e4\ub294 \uc810\uc744 \uae30\uc5b5\ud574\uc57c \ud568"
     ]
    },
    {
     "cell_type": "code",
     "collapsed": false,
     "input": [
      "print 7/5\n",
      "print -7/5\n",
      "print -(7/5)"
     ],
     "language": "python",
     "metadata": {},
     "outputs": [
      {
       "output_type": "stream",
       "stream": "stdout",
       "text": [
        "1\n",
        "-2\n",
        "-1\n"
       ]
      }
     ],
     "prompt_number": 3
    },
    {
     "cell_type": "markdown",
     "metadata": {},
     "source": [
      "\ubb38\uc81c 2_1 \ub2f5 : 7\ub098\ub204\uae30 5\uc758 \ubaab\uc740 1\uc774\ub2e4.\n",
      "\ubb38\uc81c 2_2 \ub2f5 : \ub098\ub217\uc148\uc5d0\uc11c \ub098\uba38\uc9c0\ub294 \uc591\uc218\uac00 \ub418\uc5b4\uc57c \ud558\uace0 \uadf8\uc5d0\ub530\ub77c -7/5\ub294 \ubaab\uc774 -2 \uac00 \ub41c\ub2e4.\n",
      "\ubb38\uc81c 2_3 \ub2f5 : ),(\uc5f0\uc0b0\uc790\uc5d0 \uc758\ud574\uc11c 7/5\uac00 \uba3c\uc800 \uc774\ub8e8\uc5b4\uc9c0\uace0 \ub098\uc911\uc5d0 -\ubd80\ud638\uac00 \ubd99\uc5ec\uc11c -1\uc774 \ubaab\uc774 \ub41c\ub2e4."
     ]
    },
    {
     "cell_type": "markdown",
     "metadata": {},
     "source": [
      "\ubb38\uc81c 3 : \ud0a4\ubcf4\ub4dc\ub85c \uc815\uc218\uac12\uc744 \uc785\ub825 \ubc1b\uace0 \uadf8 \uac12\uc774 \uc591\uc218\uc778\uc9c0 \uc74c\uc218\uc778\uc9c0\ub97c \ube44\ud2b8 \uc5f0\uc0b0\uc790\ub97c \uc774\uc6a9\ud558\uc5ec \ud310\ub2e8\ud558\ub294 \ud504\ub85c\uadf8\ub7a8\uc744 \uc791\uc131\ud558\uc2dc\uc624.\n",
      "        [\ucc38\uace0] \uac00\uc7a5 \uc67c\ucabd\uc5d0 \uc788\ub294 \ube44\ud2b8\uac00 0\uc774\uba74 \uc591\uc218\uc774\uba70, 1\uc774\uba74 \uc74c\uc218\uc774\ub2e4."
     ]
    },
    {
     "cell_type": "markdown",
     "metadata": {},
     "source": [
      "\ubb38\uc81c 3 \ub2f5 : "
     ]
    },
    {
     "cell_type": "code",
     "collapsed": false,
     "input": [
      "num = int(raw_input('isPlus ? : '))\n",
      "num >> 7"
     ],
     "language": "python",
     "metadata": {},
     "outputs": [
      {
       "name": "stdout",
       "output_type": "stream",
       "stream": "stdout",
       "text": [
        "isPlus ? : -78\n"
       ]
      },
      {
       "metadata": {},
       "output_type": "pyout",
       "prompt_number": 27,
       "text": [
        "-1"
       ]
      }
     ],
     "prompt_number": 27
    },
    {
     "cell_type": "markdown",
     "metadata": {},
     "source": [
      "\ubb38\uc81c 4 : \ub450 \uac1c\uc758 \ub9ac\uc2a4\ud2b8\ub97c \uc778\uc790\ub85c \ubc1b\uc544\uc11c \uadf8 \ub450 \uac1c\uc758 \ub9ac\uc2a4\ud2b8\uc5d0 \ub300\ud55c '\ud569\uc9d1\ud569'\uc744 \ubc18\ud658\ud558\ub294 \ud568\uc218 list_union(lista, listb)\ub97c \uc791\uc131\ud558\uc2dc\uc624.\n",
      "         \uc778\uc790\ub85c \uc804\ub2ec\ud558\ub294 \ub9ac\uc2a4\ud2b8 2 \uac1c\uc5d0\ub294 \uc815\uc218\uac12\ub9cc \ub4e4\uc5b4\uac04\ub2e4\uace0 \uac00\uc815\ud558\uc790.\n",
      "         \ud568\uc218 \ub0b4\uc5d0\uc11c \uc0c8\ub85c\uc6b4 \ub9ac\uc2a4\ud2b8\ub97c \ub9cc\ub4e4\uc5b4 \uadf8 \ub9ac\uc2a4\ud2b8 \ub0b4\uc5d0 \uc778\uc790\ub85c \ubc1b\uc740 \ub450 \ub9ac\uc2a4\ud2b8\uc758 \ubaa8\ub4e0 \uc6d0\uc18c\ub97c \ub123\uc5b4 \ubc18\ud658\ud55c\ub2e4.\n",
      "         \ubc18\ud658\ud558\ub294 \ub9ac\uc2a4\ud2b8\uc5d0\ub294 \uc808\ub300\ub85c \uc911\ubcf5\ub41c \uc6d0\uc18c\uac00 \ub4e4\uc5b4 \uc788\uc73c\uba74 \uc548\ub41c\ub2e4 (\uc9d1\ud569\uc758 \uc870\uac74).\n",
      "         \ubc18\ud658\ud558\ub294 \ub9ac\uc2a4\ud2b8\ub294 \uc815\ub82c\uc774 \ub418\uc5b4 \uc788\uc5b4\uc57c \ud55c\ub2e4.\n",
      "         \ub2e4\uc74c\uacfc \uac19\uc740 \uc2e4\ud589 \ubc0f \ucd9c\ub825 \uacb0\uacfc\uac00 \ub3c4\ucd9c\ub418\uc5b4\uc57c \ud55c\ub2e4.\n",
      "         list_union([1, 2, 3], [1, 2, 4])\n",
      "         [1, 2, 3, 4]\n",
      "         list_union([-10, -5, 0, -1], [100, 9, 0, 9])\n",
      "         [-10, -5, -1, 0, 9, 100]\n",
      "         list_union([0, 1, 2], [0, 1, 2])\n",
      "         [0, 1, 2]\n",
      "        [\ucc38\uace0] \ub9ac\uc2a4\ud2b8(l) \ub0b4\uc5d0 \uc0c8\ub85c\uc6b4 \uc815\uc218\uac12 (\uc608\ub97c \ub4e4\uc5b4 10)\uc744 \ub123\ub294 \ubc29\ubc95\uc740 l.append(10) \uc774\ub2e4.\n",
      "        [\ucc38\uace0] \uc784\uc758\uc758 \uc815\uc218\uac12 (x)\uc774 \ub9ac\uc2a4\ud2b8 (l) \ub0b4\uc5d0 \uc874\uc7ac\ud558\ub294\uc9c0 \ud310\ub2e8\ud558\ub294 \ubc29\ubc95\uc740 x in l \uc774\ub2e4."
     ]
    },
    {
     "cell_type": "markdown",
     "metadata": {},
     "source": [
      "\ubb38\uc81c 4\ubc88 \ub2f5 : "
     ]
    },
    {
     "cell_type": "code",
     "collapsed": false,
     "input": [
      "tempa = [7,0,8,3,5,6,1,2]\n",
      "tempb=  [4,4,3,2,1,23,76]\n",
      "def list_union(lista, listb):\n",
      "    i=len(lista)\n",
      "    j=len(listb)\n",
      "    for x in range(i):\n",
      "        if(tempa[x] in s):\n",
      "            continue\n",
      "        else:\n",
      "            s.append(tempa[x])\n",
      "    for y in range(j):\n",
      "        if(tempb[y] in tempa):\n",
      "            continue\n",
      "        else:\n",
      "            if(tempb[y] in s):\n",
      "                continue\n",
      "            else:\n",
      "                s.append(tempb[y])\n",
      "    s.sort()\n",
      "    \n",
      "s = []"
     ],
     "language": "python",
     "metadata": {},
     "outputs": [],
     "prompt_number": 31
    },
    {
     "cell_type": "code",
     "collapsed": false,
     "input": [
      "list_union([5,0,0,4,1,-8],[8,-3,-2,6,10,12])"
     ],
     "language": "python",
     "metadata": {},
     "outputs": [],
     "prompt_number": 32
    },
    {
     "cell_type": "code",
     "collapsed": false,
     "input": [
      "s"
     ],
     "language": "python",
     "metadata": {},
     "outputs": [
      {
       "metadata": {},
       "output_type": "pyout",
       "prompt_number": 33,
       "text": [
        "[0, 3, 4, 5, 6, 7, 8, 23]"
       ]
      }
     ],
     "prompt_number": 33
    },
    {
     "cell_type": "markdown",
     "metadata": {},
     "source": [
      "\ubb38\uc81c 5 \ubc88 : \uacbd\ub85c\uc5d0 \ud574\ub2f9\ud558\ub294 \ubb38\uc790\uc5f4 1\uac1c\ub97c \uc785\ub825 \ubc1b\uc544 \uadf8 \uc548\uc5d0 \ub514\ub809\ud1a0\ub9ac \uacbd\ub85c\uba85\uacfc \ud30c\uc77c\uba85\uc744 \ubd84\ub9ac\ud558\uc5ec \ub9ac\uc2a4\ud2b8\ub85c \ubc18\ud658\ud558\ub294 \ud568\uc218 div_path(s)\ub97c \uc791\uc131\ud558\uc2dc\uc624.\n",
      "            \uc778\uc790\ub85c \uc804\ub2ec\ud558\ub294 \ubb38\uc790\uc5f4\uc740 \uacbd\ub85c\ub9cc \ub4e4\uc5b4\uac04\ub2e4\uace0 \uac00\uc815\ud55c\ub2e4.\n",
      "            \uac01 \ub514\ub809\ud1a0\ub9ac\uc640 \ud30c\uc77c\uc744 \uad6c\ubd84\ud558\ub294 \ubb38\uc790\ub294 '/'\ub85c \uac00\uc815\ud55c\ub2e4.\n",
      "            \ubc18\ud658\ud558\ub294 \ub9ac\uc2a4\ud2b8\uc758 \uccab\ubc88\uc9f8 \uc6d0\uc18c\ub294 \ub514\ub809\ud1a0\ub9ac\uc774\uace0 \ub450\ubc88\uc9f8 \uc6d0\uc18c\ub294 \ud30c\uc77c\uba85\uc774\ub2e4.\n",
      "            \ub2e4\uc74c\uacfc \uac19\uc740 \uc2e4\ud589 \ubc0f \ucd9c\ub825 \uacb0\uacfc\uac00 \ub3c4\ucd9c\ub418\uc5b4\uc57c \ud55c\ub2e4.\n",
      "            div_path('/usr/local/bin/python')\n",
      "            ['/usr/local/bin', 'python']\n",
      "            div_path('/home/chulsoo/test.txt')\n",
      "            ['/home/chulsoo', 'test.txt']"
     ]
    },
    {
     "cell_type": "markdown",
     "metadata": {},
     "source": [
      "\ubb38\uc81c 5\ubc88 \ub2f5 :"
     ]
    },
    {
     "cell_type": "code",
     "collapsed": false,
     "input": [
      "def div_path(s = '/usr/local/bin/python') :\n",
      "    print s.rsplit('/', 1)\n",
      "    \n",
      "div_path('/home/Jangwon_Seo/python/test.py')"
     ],
     "language": "python",
     "metadata": {},
     "outputs": [
      {
       "output_type": "stream",
       "stream": "stdout",
       "text": [
        "['/home/Jangwon_Seo/python', 'test.py']\n"
       ]
      }
     ],
     "prompt_number": 35
    },
    {
     "cell_type": "markdown",
     "metadata": {},
     "source": [
      "\ubb38\uc81c 6\ubc88 : \uc6f9 URL\ub85c \uc9c0\uc815\ub41c \uc6f9\ud398\uc774\uc9c0\ub97c \ubb38\uc790\uc5f4\ub85c \uac00\uc838\uc640 1) \ubaa8\ub4e0 HTML \ud0dc\uadf8 \ubc0f CSS\uc640 Javascript\ub97c \uc81c\uc678\ud55c \uc21c\uc218 \ud14d\uc2a4\ud2b8\ub9cc\uc744 \ucd9c\ub825\ud558\uace0, 2) \uadf8 \uc21c\uc218 \ud14d\uc2a4\ud2b8 \uc548\uc5d0 \uc874\uc7ac\ud558\ub294 \ub2e8\uc5b4\uac00 \ucd1d \uba87\uac1c\uc778\uc9c0 \ucd9c\ub825\ud558\ub294 \ud504\ub85c\uadf8\ub7a8\uc744 \uc791\uc131\ud558\uc2dc\uc624.\n",
      "            HTML \ud0dc\uadf8\ub294 \ub2e4\uc74c \uc870\uac74\uc744 \uac00\uc9c0\ub294 \uac83\uc774\ub2e4.\n",
      "            < \ub85c \uc2dc\uc791\ud558\uc5ec >\ub85c \ub05d\ub098\uac70\ub098 />\ub85c \ub05d\ub09c\ub2e4.\n",
      "            </ \ub85c \uc2dc\uc791\ud558\uc5ec > \ub85c \ub05d\ub09c\ub2e4.\n",
      "            HTML \ubb38\uc11c \ub0b4\uc5d0 \uc874\uc7ac\ud558\ub294 CSS \uc0ad\uc81c\uc2dc \ucc38\uace0\ud560 \uc0ac\ud56d\n",
      "            <style> \ud639\uc740 <STYLE>\ub85c \uc2dc\uc791\ud55c\ub2e4.\n",
      "            </style> \ud639\uc740 </STYLE>\ub85c \ub05d\ub09c\ub2e4.\n",
      "            <style> (\ud639\uc740 <STYLE>)\uacfc </style> (\ud639\uc740 </STYLE>) \ub0b4\uc5d0 \uc874\uc7ac\ud558\ub294 CSS \ucf54\ub4dc\ub294 \ubaa8\ub450 \uc0ad\uc81c\ud55c\ub2e4.\n",
      "            HTML \ubb38\uc11c \ub0b4\uc5d0 \uc874\uc7ac\ud558\ub294 Javascript \uc0ad\uc81c\uc2dc \ucc38\uace0\ud560 \uc0ac\ud56d\n",
      "            <script> \ud639\uc740 <SCRIPT>\ub85c \uc2dc\uc791\ud55c\ub2e4.\n",
      "            </script> \ud639\uc740 </SCRIPT>\ub85c \ub05d\ub09c\ub2e4.\n",
      "            <script> (\ud639\uc740 <SCRIPT>)\uacfc </script> (\ud639\uc740 </SCRIPT>) \ub0b4\uc5d0 \uc874\uc7ac\ud558\ub294 Javascript \ucf54\ub4dc\ub294 \ubaa8\ub450 \uc0ad\uc81c\ud55c\ub2e4.\n",
      "            \uc989, CSS \ucf54\ub4dc\uc640 Javascript \ucf54\ub4dc\ub294 \ub2e8\uc5b4\uc758 \ucd1d\uc218\ub97c \uce74\uc6b4\ud2b8 \ud560 \ub54c \uace0\ub824\ud558\uc9c0 \uc54a\ub294\ub2e4.\n",
      "            \ub2e8\uc5b4\ub97c \ub098\ub204\ub294 \uae30\uc900\uc740 \uc624\ub85c\uc9c0 \uacf5\ubc31\ubb38\uc790\uc774\ub2e4.\n",
      "            \ub2e4\uc74c \ucf54\ub4dc \ud65c\uc6a9\n",
      "            import string\n",
      "            c in string.whitespace"
     ]
    },
    {
     "cell_type": "code",
     "collapsed": false,
     "input": [],
     "language": "python",
     "metadata": {},
     "outputs": []
    },
    {
     "cell_type": "code",
     "collapsed": false,
     "input": [],
     "language": "python",
     "metadata": {},
     "outputs": []
    }
   ],
   "metadata": {}
  }
 ]
}