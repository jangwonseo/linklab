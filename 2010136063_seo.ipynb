{
 "metadata": {
  "name": "",
  "signature": "sha256:362eef3f09a0a7e451609264dab639a41af5b628c63a075f4b71a129c99373c9"
 },
 "nbformat": 3,
 "nbformat_minor": 0,
 "worksheets": [
  {
   "cells": [
    {
     "cell_type": "markdown",
     "metadata": {},
     "source": [
      "\ubb38\uc81c 1\ubc88 : \"Hello Python\" \ubb38\uc790\uc5f4\uc744 Slicing\uacfc \uc5f0\uacb0 \uc5f0\uc0b0\uc790 (+)\ub97c \uc0ac\uc6a9\ud558\uc5ec \"Python Hello\"\ub85c \ubcc0\uacbd\ud558\uc2dc\uc624."
     ]
    },
    {
     "cell_type": "code",
     "collapsed": false,
     "input": [
      "s = 'Hello Python'\n",
      "s = s[6:12]+' '+s[0:5]\n",
      "print s"
     ],
     "language": "python",
     "metadata": {},
     "outputs": [
      {
       "output_type": "stream",
       "stream": "stdout",
       "text": [
        "Python Hello\n"
       ]
      }
     ],
     "prompt_number": 6
    },
    {
     "cell_type": "markdown",
     "metadata": {},
     "source": [
      "\ubb38\uc81c 2\ubc88 : \"Hello Python World\" \ubb38\uc790\uc5f4\uc744 Slicing\uacfc \uc5f0\uacb0 \uc5f0\uc0b0\uc790 (+)\ub97c \uc0ac\uc6a9\ud558\uc5ec \"World Python Hello\"\ub85c \ubcc0\uacbd\ud558\uc2dc\uc624."
     ]
    },
    {
     "cell_type": "code",
     "collapsed": false,
     "input": [
      "s = 'Hello Python World'\n",
      "s = s[13:18]+' '+s[6:12]+' '+s[0:5]\n",
      "print s"
     ],
     "language": "python",
     "metadata": {},
     "outputs": [
      {
       "output_type": "stream",
       "stream": "stdout",
       "text": [
        "World Python Hello\n"
       ]
      }
     ],
     "prompt_number": 7
    },
    {
     "cell_type": "markdown",
     "metadata": {},
     "source": [
      "\ubb38\uc81c 3\ubc88 : \"Hello\"\ub97c \"olleH\"\ub85c \ubcc0\uacbd\ud558\uc2dc\uc624"
     ]
    },
    {
     "cell_type": "code",
     "collapsed": false,
     "input": [
      "s = 'Hello'\n",
      "s = s[::-1]\n",
      "print s"
     ],
     "language": "python",
     "metadata": {},
     "outputs": [
      {
       "output_type": "stream",
       "stream": "stdout",
       "text": [
        "olleH\n"
       ]
      }
     ],
     "prompt_number": 8
    },
    {
     "cell_type": "markdown",
     "metadata": {},
     "source": [
      "\ubb38\uc81c 4-1\ubc88 :  s[0], s[0][0], s[0][0][0]\uc740 \uac01\uac01 \uc5b4\ub5a4 \uac12\uc774 \ub098\uc624\ub294\uc9c0 \ud655\uc778\ud558\uace0 \uadf8 \uc774\uc720\ub97c \ub098\ub984\ub300\ub85c \uc124\uba85\ud574 \ubcf4\uc2dc\uc624."
     ]
    },
    {
     "cell_type": "code",
     "collapsed": false,
     "input": [
      "s = 'Python'\n",
      "print s[0]\n",
      "print s[0][0]\n",
      "print s[0][0][0]"
     ],
     "language": "python",
     "metadata": {},
     "outputs": [
      {
       "output_type": "stream",
       "stream": "stdout",
       "text": [
        "P\n",
        "P\n",
        "P\n"
       ]
      }
     ],
     "prompt_number": 10
    },
    {
     "cell_type": "markdown",
     "metadata": {},
     "source": [
      "4-1\ubc88\uc5d0 \uc774\uc720 : s = 'Python' \uc774 \uc218\ud589\ub418\uc5c8\uc744\ub54c s\ub294 \ud558\ub098\uc758 \ub9ac\uc2a4\ud2b8\ub85c \ud45c\ud604\ud560\uc218\uc788\ub2e4. \uc608\ub97c\ub4e4\uc5b4 s[0] = 'P', s[1] = 'y'... \n",
      "               \ub9ac\uc2a4\ud2b8\ub77c\uace0 \ubcf4\uc558\uc744\ub54c a = [1,2,3],b=[4,5,6],c=[a,b,7,8,9] \uc774\ub807\uac8c \ud3ec\ud568\uad00\uacc4\uac00 \ub420 \uacbd\uc6b0\uc5d0 \n",
      "               a[0] = '1', a[0][1] = 2 \uc774\ub7f0\uc2dd\uc73c\ub85c \ub0b4\ubd80\uc5d0 \ud3ec\ud568\ub41c \ub9ac\uc2a4\ud2b8\ub85c \ub2e8\uacc4\uc801\uc73c\ub85c \ub4e4\uc5b4\uac08\ub54c\ub9c8\ub2e4 [] \uac00 \ud558\ub098\uc529 \ub354 \ubd99\ub294\ub2e4.\n",
      "               \uc5ec\uae30\uc11c\ub294 [0][0]\uc774\ub098 [0][0][0] \uc774\ub098 \ubaa8\ub450 \uccab\ubc88\uc9f8\uc758 \ub0b4\ubd80\ub85c \ub4e4\uc5b4\uac00\uace0 \ub0b4\ubd80\ub85c \ub4e4\uc5b4\uac00\ub294\uac83\uc744 \ub73b\ud558\ubbc0\ub85c \ubaa8\ub450 'P'\uac00 \ub098\uc624\uac8c \ub41c\ub2e4."
     ]
    },
    {
     "cell_type": "markdown",
     "metadata": {},
     "source": [
      "\ubb38\uc81c 4-2\ubc88 : s[-100], s[100]\uc740 \uac12\uc774 \ub098\uc624\ub294\uc9c0 \uc5d0\ub7ec\uac00 \ub098\uc624\ub294\uc9c0 \ud655\uc778\ud558\uace0 \uadf8 \uacb0\uacfc\uc5d0 \ub300\ud55c \uc774\uc720\ub97c \ub098\ub984\ub300\ub85c \uc124\uba85\ud574 \ubcf4\uc2dc\uc624."
     ]
    },
    {
     "cell_type": "code",
     "collapsed": false,
     "input": [
      "s = 'python'\n",
      "print s[-100]\n",
      "print s[100]"
     ],
     "language": "python",
     "metadata": {},
     "outputs": [
      {
       "ename": "IndexError",
       "evalue": "string index out of range",
       "output_type": "pyerr",
       "traceback": [
        "\u001b[1;31m---------------------------------------------------------------------------\u001b[0m\n\u001b[1;31mIndexError\u001b[0m                                Traceback (most recent call last)",
        "\u001b[1;32m<ipython-input-11-f12ed1afad1c>\u001b[0m in \u001b[0;36m<module>\u001b[1;34m()\u001b[0m\n\u001b[0;32m      1\u001b[0m \u001b[0ms\u001b[0m \u001b[1;33m=\u001b[0m \u001b[1;34m'python'\u001b[0m\u001b[1;33m\u001b[0m\u001b[0m\n\u001b[1;32m----> 2\u001b[1;33m \u001b[1;32mprint\u001b[0m \u001b[0ms\u001b[0m\u001b[1;33m[\u001b[0m\u001b[1;33m-\u001b[0m\u001b[1;36m100\u001b[0m\u001b[1;33m]\u001b[0m\u001b[1;33m\u001b[0m\u001b[0m\n\u001b[0m\u001b[0;32m      3\u001b[0m \u001b[1;32mprint\u001b[0m \u001b[0ms\u001b[0m\u001b[1;33m[\u001b[0m\u001b[1;36m100\u001b[0m\u001b[1;33m]\u001b[0m\u001b[1;33m\u001b[0m\u001b[0m\n",
        "\u001b[1;31mIndexError\u001b[0m: string index out of range"
       ]
      }
     ],
     "prompt_number": 11
    },
    {
     "cell_type": "markdown",
     "metadata": {},
     "source": [
      "4-2\ubc88\uc5d0 \uc774\uc720 : \ubb38\uc790\uc5f4 \uc758 \ud0c0\uc785\uc778 string \uc758 \uacbd\uc6b0 python \uc740 5,-6\uae4c\uc9c0\uac00 \ucd5c\ub300,\ucd5c\uc18c \uc778\ub371\uc2a4\uac12\uc778\ub370 \uadf8 \ud55c\uacc4\uce58\ub97c \ub118\uc5b4\ubc84\ub9b0 \uc778\ub371\uc2a4\uac12\uc774\ubbc0\ub85c \uc5d0\ub7ec\uac00 \ub09c\ub2e4."
     ]
    },
    {
     "cell_type": "markdown",
     "metadata": {},
     "source": [
      "\ubb38\uc81c 4-3\ubc88 :  s[-100, 100]\uc740 \uac12\uc774 \ub098\uc624\ub294\uc9c0 \uc5d0\ub7ec\uac00 \ub098\uc624\ub294\uc9c0 \ud655\uc778\ud558\uace0 \uadf8 \uacb0\uacfc\uc5d0 \ub300\ud55c \uc774\uc720\ub97c \ub098\ub984\ub300\ub85c \uc124\uba85\ud574 \ubcf4\uc2dc\uc624."
     ]
    },
    {
     "cell_type": "code",
     "collapsed": false,
     "input": [
      "s = 'python'\n",
      "print s[-100,100]"
     ],
     "language": "python",
     "metadata": {},
     "outputs": [
      {
       "ename": "TypeError",
       "evalue": "string indices must be integers, not tuple",
       "output_type": "pyerr",
       "traceback": [
        "\u001b[1;31m---------------------------------------------------------------------------\u001b[0m\n\u001b[1;31mTypeError\u001b[0m                                 Traceback (most recent call last)",
        "\u001b[1;32m<ipython-input-12-91f2dda43f41>\u001b[0m in \u001b[0;36m<module>\u001b[1;34m()\u001b[0m\n\u001b[0;32m      1\u001b[0m \u001b[0ms\u001b[0m \u001b[1;33m=\u001b[0m \u001b[1;34m'python'\u001b[0m\u001b[1;33m\u001b[0m\u001b[0m\n\u001b[1;32m----> 2\u001b[1;33m \u001b[1;32mprint\u001b[0m \u001b[0ms\u001b[0m\u001b[1;33m[\u001b[0m\u001b[1;33m-\u001b[0m\u001b[1;36m100\u001b[0m\u001b[1;33m,\u001b[0m\u001b[1;36m100\u001b[0m\u001b[1;33m]\u001b[0m\u001b[1;33m\u001b[0m\u001b[0m\n\u001b[0m",
        "\u001b[1;31mTypeError\u001b[0m: string indices must be integers, not tuple"
       ]
      }
     ],
     "prompt_number": 12
    },
    {
     "cell_type": "markdown",
     "metadata": {},
     "source": [
      "4-3\ubc88\uc5d0 \uc774\uc720 ; \uac1c\uc778\uc801\uc778 \uc0dd\uac01\uc73c\ub85c\ub294 \ubb38\ubc95\uc778 \uc624\ub958\uc778\uac83 \uac19\ub2e4. \ubb38\uc790\uc5f4\uc758 \uc778\ub371\uc2a4\uac12\uc740 \uc22b\uc790\ub85c \uad6c\uc131\ub418\uc57c\ud558\ub294\ub370 ,\ucef4\ub9c8\uc640 \uac19\uc740 \ud615\uc2dd\uc73c\ub85c\ub294 \uc548\ub418\ub294\uac83 \uac19\ub2e4."
     ]
    },
    {
     "cell_type": "markdown",
     "metadata": {},
     "source": [
      "\ubb38\uc81c 4-4\ubc88 : s[1:-1]\uc758 \uacb0\uacfc\ub97c \ud655\uc778\ud558\uace0 \uadf8 \uacb0\uacfc\uc5d0 \ub300\ud55c \uc774\uc720\ub97c \uc815\ud655\ud558\uac8c \uc124\uba85\ud558\uc2dc\uc624."
     ]
    },
    {
     "cell_type": "code",
     "collapsed": false,
     "input": [
      "s = 'python'\n",
      "print s[1:-1]"
     ],
     "language": "python",
     "metadata": {},
     "outputs": [
      {
       "output_type": "stream",
       "stream": "stdout",
       "text": [
        "ytho\n"
       ]
      }
     ],
     "prompt_number": 13
    },
    {
     "cell_type": "markdown",
     "metadata": {},
     "source": [
      "4-4\ubc88\uc5d0 \uc774\uc720 : \ubb38\uc790\uc5f4 slicing \ud615\uc2dd: [start(included) : stop(excluded) : step] \uc774\ub2e4.\n",
      "\ud55c\uad6d\uc5b4\ub85c \ud480\uc5b4\ubcf4\uba74 included \ub294 \ud3ec\ud568\ub418\ub294, excluded\ub294 \uc81c\uc678\ub418\ub294 \uc774\ub77c\ub294 \ub73b\uc774\ub2e4.\n",
      "1\ubc88 \uc778\ub371\uc2a4\ub294 \ud3ec\ud568\ub418\uace0 -1\uc778\ub371\uc2a4\ub294 \uc81c\uc678\ub418\uc5b4 slicing \ub418\ubbc0\ub85c ytho \uac00 \ub098\uc624\uac8c \ub41c\ub2e4."
     ]
    },
    {
     "cell_type": "markdown",
     "metadata": {},
     "source": [
      "\ubb38\uc81c 4-5\ubc88 : s[3:-3]\uc758 \uacb0\uacfc\ub97c \ud655\uc778\ud558\uace0 \uadf8 \uacb0\uacfc\uc5d0 \ub300\ud55c \uc774\uc720\ub97c \uc815\ud655\ud558\uac8c \uc124\uba85\ud558\uc2dc\uc624"
     ]
    },
    {
     "cell_type": "code",
     "collapsed": false,
     "input": [
      "s = 'python'\n",
      "print s[3:-3]"
     ],
     "language": "python",
     "metadata": {},
     "outputs": [
      {
       "output_type": "stream",
       "stream": "stdout",
       "text": [
        "\n"
       ]
      }
     ],
     "prompt_number": 1
    },
    {
     "cell_type": "markdown",
     "metadata": {},
     "source": [
      "4-5\ubc88\uc5d0 \uc774\uc720 : \uacb0\uacfc\ub294 \uc544\ubb34\uac12\ub3c4 \ub098\uc624\uc9c0 \uc54a\ub294\ub2e4. \uadf8 \uc774\uc720\ub294 \uc778\ub371\uc2a4 3\uc740 'h'\uc774\uace0 \uc81c\uc678 \uc778\ub371\uc2a4 -3\uc774 'h' \uc774\uae30\ub54c\ubb38\uc5d0 slicing\ub418\uc5b4 \uacf5\ubc31\uc774\ub41c\ub2e4."
     ]
    },
    {
     "cell_type": "markdown",
     "metadata": {},
     "source": [
      "\ubb38\uc81c 5-5\ubc88 : for\ubb38\uc744 \ud65c\uc6a9\ud558\uc5ec 1\ubd80\ud130 100\uc0ac\uc774\uc758 \ud640\uc218\ub97c \ucd9c\ub825\ud558\uc2dc\uc624."
     ]
    },
    {
     "cell_type": "code",
     "collapsed": false,
     "input": [
      "for i in range(1,100):\n",
      "    if i%2 != 0:\n",
      "        print(i)"
     ],
     "language": "python",
     "metadata": {},
     "outputs": [
      {
       "output_type": "stream",
       "stream": "stdout",
       "text": [
        "1\n",
        "3\n",
        "5\n",
        "7\n",
        "9\n",
        "11\n",
        "13\n",
        "15\n",
        "17\n",
        "19\n",
        "21\n",
        "23\n",
        "25\n",
        "27\n",
        "29\n",
        "31\n",
        "33\n",
        "35\n",
        "37\n",
        "39\n",
        "41\n",
        "43\n",
        "45\n",
        "47\n",
        "49\n",
        "51\n",
        "53\n",
        "55\n",
        "57\n",
        "59\n",
        "61\n",
        "63\n",
        "65\n",
        "67\n",
        "69\n",
        "71\n",
        "73\n",
        "75\n",
        "77\n",
        "79\n",
        "81\n",
        "83\n",
        "85\n",
        "87\n",
        "89\n",
        "91\n",
        "93\n",
        "95\n",
        "97\n",
        "99\n"
       ]
      }
     ],
     "prompt_number": 2
    },
    {
     "cell_type": "markdown",
     "metadata": {},
     "source": [
      "\ubb38\uc81c 6\ubc88 : while\ubb38\uc744 \ud65c\uc6a9\ud558\uc5ec 1\ubd80\ud130 100\uc0ac\uc774\uc758 \uc9dd\uc218\uc758 \ud569\uc744 \uacc4\uc0b0\ud558\uc5ec \ucd9c\ub825\ud558\uc2dc\uc624."
     ]
    },
    {
     "cell_type": "code",
     "collapsed": false,
     "input": [
      "num = 0\n",
      "sum = 0\n",
      "while num<=100:\n",
      "    num+=1\n",
      "    if(num%2)==0:\n",
      "        sum+=num\n",
      "        \n",
      "print sum"
     ],
     "language": "python",
     "metadata": {},
     "outputs": [
      {
       "output_type": "stream",
       "stream": "stdout",
       "text": [
        "2550\n"
       ]
      }
     ],
     "prompt_number": 3
    },
    {
     "cell_type": "markdown",
     "metadata": {},
     "source": [
      "\ubb38\uc81c 7\ubc88 : \uc678\ubd80\ub85c \ubd80\ud130 \uc815\uc218\ub97c \uc785\ub825\ubc1b\uc544\uc11c 1\ubd80\ud130 \uadf8 \uc0ac\uc774\uc5d0 \uc874\uc7ac\ud558\ub294 \uc18c\uc218 (Prime number)\ub97c \ucd9c\ub825\ud558\ub294 \ud30c\uc774\uc36c \ud504\ub85c\uadf8\ub7a8\uc744 \uc791\uc131\ud558\uc2dc\uc624."
     ]
    },
    {
     "cell_type": "code",
     "collapsed": false,
     "input": [
      "i=2\n",
      "num = int(raw_input('num : '))\n",
      "while (i<num):\n",
      "    j=2\n",
      "    while (j<i):\n",
      "        if ((i%j) == 0):\n",
      "            break\n",
      "        j = j+1\n",
      "    if (i==j):\n",
      "       print(i)\n",
      "    i=i+1"
     ],
     "language": "python",
     "metadata": {},
     "outputs": [
      {
       "name": "stdout",
       "output_type": "stream",
       "stream": "stdout",
       "text": [
        "num : 20\n"
       ]
      },
      {
       "output_type": "stream",
       "stream": "stdout",
       "text": [
        "2\n",
        "3\n",
        "5\n",
        "7\n",
        "11\n",
        "13\n",
        "17\n",
        "19\n"
       ]
      }
     ],
     "prompt_number": 4
    },
    {
     "cell_type": "code",
     "collapsed": false,
     "input": [],
     "language": "python",
     "metadata": {},
     "outputs": []
    }
   ],
   "metadata": {}
  }
 ]
}